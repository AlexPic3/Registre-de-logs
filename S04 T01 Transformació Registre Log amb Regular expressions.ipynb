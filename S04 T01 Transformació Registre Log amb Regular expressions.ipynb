{
 "cells": [
  {
   "cell_type": "code",
   "execution_count": 1,
   "id": "wXdTuhEKft1t",
   "metadata": {
    "ExecuteTime": {
     "end_time": "2021-12-15T14:10:52.064175Z",
     "start_time": "2021-12-15T14:10:52.059188Z"
    },
    "colab": {
     "base_uri": "https://localhost:8080/"
    },
    "executionInfo": {
     "elapsed": 20206,
     "status": "ok",
     "timestamp": 1637657195031,
     "user": {
      "displayName": "Alex Python",
      "photoUrl": "https://lh3.googleusercontent.com/a/default-user=s64",
      "userId": "10204949499951924037"
     },
     "user_tz": -60
    },
    "id": "wXdTuhEKft1t",
    "outputId": "73fad9c5-e7c4-461d-9619-5f8c3d0b86a2",
    "scrolled": true
   },
   "outputs": [],
   "source": [
    "#from google.colab import drive\n",
    "#drive.mount('/content/drive')"
   ]
  },
  {
   "cell_type": "markdown",
   "id": "70484267",
   "metadata": {
    "id": "70484267",
    "toc": true
   },
   "source": [
    "<h1>Table of Contents<span class=\"tocSkip\"></span></h1>\n",
    "<div class=\"toc\"><ul class=\"toc-item\"><li><span><a href=\"#S04-T01:-Transformació-Registre-Log-amb-Regular-expressions\" data-toc-modified-id=\"S04-T01:-Transformació-Registre-Log-amb-Regular-expressions-1\"><span class=\"toc-item-num\">1&nbsp;&nbsp;</span>S04 T01: Transformació Registre Log amb Regular expressions</a></span></li><li><span><a href=\"#Descripció\" data-toc-modified-id=\"Descripció-2\"><span class=\"toc-item-num\">2&nbsp;&nbsp;</span>Descripció</a></span><ul class=\"toc-item\"><li><span><a href=\"#Nivell-1\" data-toc-modified-id=\"Nivell-1-2.1\"><span class=\"toc-item-num\">2.1&nbsp;&nbsp;</span>Nivell 1</a></span><ul class=\"toc-item\"><li><span><a href=\"#Exercici-1\" data-toc-modified-id=\"Exercici-1-2.1.1\"><span class=\"toc-item-num\">2.1.1&nbsp;&nbsp;</span>Exercici 1</a></span></li></ul></li><li><span><a href=\"#Nivell-2\" data-toc-modified-id=\"Nivell-2-2.2\"><span class=\"toc-item-num\">2.2&nbsp;&nbsp;</span>Nivell 2</a></span><ul class=\"toc-item\"><li><span><a href=\"#Exercici-2\" data-toc-modified-id=\"Exercici-2-2.2.1\"><span class=\"toc-item-num\">2.2.1&nbsp;&nbsp;</span>Exercici 2</a></span></li><li><span><a href=\"#Splittig-&quot;Request-Line&quot;.\" data-toc-modified-id=\"Splittig-&quot;Request-Line&quot;.-2.2.2\"><span class=\"toc-item-num\">2.2.2&nbsp;&nbsp;</span>Splittig \"Request Line\".</a></span></li><li><span><a href=\"#2.1.2--Splittig--&quot;User_Agents&quot;.\" data-toc-modified-id=\"2.1.2--Splittig--&quot;User_Agents&quot;.-2.2.3\"><span class=\"toc-item-num\">2.2.3&nbsp;&nbsp;</span>2.1.2  Splittig  \"User_Agents\".</a></span></li></ul></li><li><span><a href=\"#Nivell-3\" data-toc-modified-id=\"Nivell-3-2.3\"><span class=\"toc-item-num\">2.3&nbsp;&nbsp;</span>Nivell 3</a></span><ul class=\"toc-item\"><li><span><a href=\"#Exercici-3.-A-close-view-of-user's-habits.\" data-toc-modified-id=\"Exercici-3.-A-close-view-of-user's-habits.-2.3.1\"><span class=\"toc-item-num\">2.3.1&nbsp;&nbsp;</span>Exercici 3. A close view of user's habits.</a></span><ul class=\"toc-item\"><li><span><a href=\"#Device\" data-toc-modified-id=\"Device-2.3.1.1\"><span class=\"toc-item-num\">2.3.1.1&nbsp;&nbsp;</span>Device</a></span></li></ul></li><li><span><a href=\"#Exercici-3.-A-study-of-the-geographic-origin,-and-the-timeline.\" data-toc-modified-id=\"Exercici-3.-A-study-of-the-geographic-origin,-and-the-timeline.-2.3.2\"><span class=\"toc-item-num\">2.3.2&nbsp;&nbsp;</span>Exercici 3. A study of the geographic origin, and the timeline.</a></span><ul class=\"toc-item\"><li><span><a href=\"#Time-Series-Data-Visualization\" data-toc-modified-id=\"Time-Series-Data-Visualization-2.3.2.1\"><span class=\"toc-item-num\">2.3.2.1&nbsp;&nbsp;</span>Time Series Data Visualization</a></span></li><li><span><a href=\"#Geographic-chart-of-the-number-of-requests-to-the-server-by-country.\" data-toc-modified-id=\"Geographic-chart-of-the-number-of-requests-to-the-server-by-country.-2.3.2.2\"><span class=\"toc-item-num\">2.3.2.2&nbsp;&nbsp;</span>Geographic chart of the number of requests to the server by country.</a></span></li></ul></li></ul></li></ul></li></ul></div>"
   ]
  },
  {
   "cell_type": "markdown",
   "id": "e283a4b0",
   "metadata": {
    "id": "e283a4b0"
   },
   "source": [
    "# S04 T01: Transformació Registre Log amb Regular expressions"
   ]
  },
  {
   "cell_type": "markdown",
   "id": "a2406448",
   "metadata": {
    "id": "a2406448"
   },
   "source": [
    "# Descripció\n",
    "   * L'anàlisi de registres és una funció important per al control i l'alerta, el compliment de les polítiques de seguretat, l'auditoria i el compliment normatiu, la resposta a incidents de seguretat i fins i tot les investigacions forenses. En analitzar les dades de registre, les empreses poden identificar més fàcilment les possibles amenaces i altres problemes, trobar la causa arrel i iniciar una resposta ràpida per mitigar els riscos."
   ]
  },
  {
   "cell_type": "markdown",
   "id": "9004be8c",
   "metadata": {
    "id": "9004be8c"
   },
   "source": [
    "## Nivell 1\n",
    "\n",
    "* L'analista ha d'assegurar-se que els registres consisteixen en una gamma completa de missatges i s'interpreten segons el context. Els elements de registre han d'estandaritzar-se, utilitzant els mateixos termes o terminologia, per evitar confusions i proporcionar cohesió. \n",
    "* Com Científic de Dades se t'ha proporcionat accés als registres-Logs on queda registrada l'activitat de totes les visites a realitzades a la pàgina web de l'agència de viatges \"akumenius.com\"."
   ]
  },
  {
   "cell_type": "markdown",
   "id": "40e3c490",
   "metadata": {
    "id": "40e3c490"
   },
   "source": [
    "### Exercici 1\n",
    "* Estandarditzà, identificar i enumerar cada un dels atributs / variables de l'estructura de l'arxiu \"Web_access_log-akumenius.com\" que trobaràs al repositori de GitHub \"Data-sources\".\n",
    "* https://github.com/IT-Academy-BCN/Data-Science/tree/main/Data-sources"
   ]
  },
  {
   "cell_type": "code",
   "execution_count": 1,
   "id": "32f970c4",
   "metadata": {
    "ExecuteTime": {
     "end_time": "2021-12-16T13:59:26.786969Z",
     "start_time": "2021-12-16T13:59:23.301619Z"
    },
    "id": "32f970c4"
   },
   "outputs": [],
   "source": [
    "# importing libraries\n",
    "import re\n",
    "import numpy as np\n",
    "import pandas as pd\n",
    "import matplotlib.pyplot as plt\n",
    "import seaborn as sns\n",
    "import warnings\n",
    "import random\n",
    "from user_agents import parse\n",
    "\n",
    "warnings.filterwarnings('ignore')"
   ]
  },
  {
   "cell_type": "markdown",
   "id": "u3oj3NqW84dG",
   "metadata": {
    "id": "u3oj3NqW84dG"
   },
   "source": [
    "* Info API Pandas :\n",
    "https://pandas.pydata.org/pandas-docs/stable/reference/api/pandas.read_csv.html\n",
    "* Informació de l'estructura d'un log d'accés:\n",
    "https://httpd.apache.org/docs/2.4/logs.html"
   ]
  },
  {
   "cell_type": "code",
   "execution_count": 2,
   "id": "c1d21731",
   "metadata": {
    "ExecuteTime": {
     "end_time": "2021-12-16T13:59:36.510965Z",
     "start_time": "2021-12-16T13:59:29.120134Z"
    },
    "colab": {
     "base_uri": "https://localhost:8080/",
     "height": 487
    },
    "executionInfo": {
     "elapsed": 1132,
     "status": "ok",
     "timestamp": 1637660223630,
     "user": {
      "displayName": "Alex Python",
      "photoUrl": "https://lh3.googleusercontent.com/a/default-user=s64",
      "userId": "10204949499951924037"
     },
     "user_tz": -60
    },
    "id": "c1d21731",
    "outputId": "3a06f7c4-0c82-4d1e-d39d-db0b23eba14d",
    "scrolled": false
   },
   "outputs": [
    {
     "data": {
      "text/html": [
       "<div>\n",
       "<style scoped>\n",
       "    .dataframe tbody tr th:only-of-type {\n",
       "        vertical-align: middle;\n",
       "    }\n",
       "\n",
       "    .dataframe tbody tr th {\n",
       "        vertical-align: top;\n",
       "    }\n",
       "\n",
       "    .dataframe thead th {\n",
       "        text-align: right;\n",
       "    }\n",
       "</style>\n",
       "<table border=\"1\" class=\"dataframe\">\n",
       "  <thead>\n",
       "    <tr style=\"text-align: right;\">\n",
       "      <th></th>\n",
       "      <th>Local</th>\n",
       "      <th>ip_remote_host</th>\n",
       "      <th>Timestamp</th>\n",
       "      <th>Request_line</th>\n",
       "      <th>Status_code</th>\n",
       "      <th>Size_Object</th>\n",
       "      <th>HTTP_request_header</th>\n",
       "      <th>User_Agents</th>\n",
       "    </tr>\n",
       "  </thead>\n",
       "  <tbody>\n",
       "    <tr>\n",
       "      <th>0</th>\n",
       "      <td>localhost</td>\n",
       "      <td>127.0.0.1</td>\n",
       "      <td>[23/Feb/2014:03:10:31</td>\n",
       "      <td>OPTIONS * HTTP/1.0</td>\n",
       "      <td>200</td>\n",
       "      <td>-</td>\n",
       "      <td>-</td>\n",
       "      <td>Apache (internal dummy connection)</td>\n",
       "    </tr>\n",
       "    <tr>\n",
       "      <th>1</th>\n",
       "      <td>localhost</td>\n",
       "      <td>127.0.0.1</td>\n",
       "      <td>[23/Feb/2014:03:10:31</td>\n",
       "      <td>OPTIONS * HTTP/1.0</td>\n",
       "      <td>200</td>\n",
       "      <td>-</td>\n",
       "      <td>-</td>\n",
       "      <td>Apache (internal dummy connection)</td>\n",
       "    </tr>\n",
       "    <tr>\n",
       "      <th>2</th>\n",
       "      <td>localhost</td>\n",
       "      <td>127.0.0.1</td>\n",
       "      <td>[23/Feb/2014:03:10:31</td>\n",
       "      <td>OPTIONS * HTTP/1.0</td>\n",
       "      <td>200</td>\n",
       "      <td>-</td>\n",
       "      <td>-</td>\n",
       "      <td>Apache (internal dummy connection)</td>\n",
       "    </tr>\n",
       "    <tr>\n",
       "      <th>3</th>\n",
       "      <td>localhost</td>\n",
       "      <td>127.0.0.1</td>\n",
       "      <td>[23/Feb/2014:03:10:31</td>\n",
       "      <td>OPTIONS * HTTP/1.0</td>\n",
       "      <td>200</td>\n",
       "      <td>-</td>\n",
       "      <td>-</td>\n",
       "      <td>Apache (internal dummy connection)</td>\n",
       "    </tr>\n",
       "    <tr>\n",
       "      <th>4</th>\n",
       "      <td>localhost</td>\n",
       "      <td>127.0.0.1</td>\n",
       "      <td>[23/Feb/2014:03:10:31</td>\n",
       "      <td>OPTIONS * HTTP/1.0</td>\n",
       "      <td>200</td>\n",
       "      <td>-</td>\n",
       "      <td>-</td>\n",
       "      <td>Apache (internal dummy connection)</td>\n",
       "    </tr>\n",
       "  </tbody>\n",
       "</table>\n",
       "</div>"
      ],
      "text/plain": [
       "       Local ip_remote_host              Timestamp        Request_line  \\\n",
       "0  localhost      127.0.0.1  [23/Feb/2014:03:10:31  OPTIONS * HTTP/1.0   \n",
       "1  localhost      127.0.0.1  [23/Feb/2014:03:10:31  OPTIONS * HTTP/1.0   \n",
       "2  localhost      127.0.0.1  [23/Feb/2014:03:10:31  OPTIONS * HTTP/1.0   \n",
       "3  localhost      127.0.0.1  [23/Feb/2014:03:10:31  OPTIONS * HTTP/1.0   \n",
       "4  localhost      127.0.0.1  [23/Feb/2014:03:10:31  OPTIONS * HTTP/1.0   \n",
       "\n",
       "   Status_code Size_Object HTTP_request_header  \\\n",
       "0          200           -                   -   \n",
       "1          200           -                   -   \n",
       "2          200           -                   -   \n",
       "3          200           -                   -   \n",
       "4          200           -                   -   \n",
       "\n",
       "                          User_Agents  \n",
       "0  Apache (internal dummy connection)  \n",
       "1  Apache (internal dummy connection)  \n",
       "2  Apache (internal dummy connection)  \n",
       "3  Apache (internal dummy connection)  \n",
       "4  Apache (internal dummy connection)  "
      ]
     },
     "execution_count": 2,
     "metadata": {},
     "output_type": "execute_result"
    }
   ],
   "source": [
    "# Colab /content/drive/MyDrive/ITAcademy DS/DS Python Projects/05. Sprint 5. Altres mòduls bàsics de Python/data/Web_access_log-akumenius.com.txt\n",
    "#G:\\Mi unidad\\ITAcademy DS\\DS Python Projects\\05. Sprint 5. Altres mòduls bàsics de Python\\data\n",
    "pd.options.display.max_columns = None\n",
    "url1= r\"./data/(Mod)Web_access_log-akumenius.com.txt\"\n",
    "url2= r\"/content/drive/MyDrive/ITAcademy DS/DS Python Projects/05. Sprint 5. Altres mòduls bàsics de Python/data/(Mod)Web_access_log-akumenius.com.txt\"\n",
    "\n",
    "wdf=pd.read_csv(url1, sep='\\s+', error_bad_lines=False, warn_bad_lines=True, header=None)\n",
    "wdf.drop(wdf.columns[[2,3,5,11]], axis=1, inplace= True)\n",
    "wdf.rename(columns={0: 'Local', 1: 'ip_remote_host', 4: 'Timestamp', 6: 'Request_line', 7: 'Status_code', 8: 'Size_Object', 9: 'HTTP_request_header', 10: 'User_Agents'}, inplace=True)\n",
    "wdf.head()"
   ]
  },
  {
   "cell_type": "code",
   "execution_count": 3,
   "id": "a6373a7d",
   "metadata": {
    "ExecuteTime": {
     "end_time": "2021-12-16T13:59:39.348455Z",
     "start_time": "2021-12-16T13:59:39.332472Z"
    },
    "colab": {
     "base_uri": "https://localhost:8080/"
    },
    "executionInfo": {
     "elapsed": 226,
     "status": "ok",
     "timestamp": 1637660229751,
     "user": {
      "displayName": "Alex Python",
      "photoUrl": "https://lh3.googleusercontent.com/a/default-user=s64",
      "userId": "10204949499951924037"
     },
     "user_tz": -60
    },
    "id": "a6373a7d",
    "outputId": "a47f525e-d80c-4b9a-e146-46d77c7bf017"
   },
   "outputs": [
    {
     "name": "stdout",
     "output_type": "stream",
     "text": [
      "Colums: ['Local', 'ip_remote_host', 'Timestamp', 'Request_line', 'Status_code', 'Size_Object', 'HTTP_request_header', 'User_Agents']\n"
     ]
    }
   ],
   "source": [
    "a = wdf.columns.to_list()\n",
    "print (f'Colums: {a}')\n",
    "# columns = ['Local', 'ip_remote_host', 'Timestamp', 'Request_line', 'Status_code', 'Size_Object', 'HTTP_request_header', 'User_Agents', 'Date', 'DateFloor']"
   ]
  },
  {
   "cell_type": "code",
   "execution_count": 4,
   "id": "cc74bd63",
   "metadata": {
    "ExecuteTime": {
     "end_time": "2021-12-16T13:59:40.050317Z",
     "start_time": "2021-12-16T13:59:40.004465Z"
    },
    "id": "cc74bd63"
   },
   "outputs": [],
   "source": [
    "# Esborrem totes les files que tinguin com a localhost 127.0.0.1, ja que és una informació innecessària.\n",
    "wdf.drop(wdf[wdf['ip_remote_host'] == '127.0.0.1'].index, inplace= True)"
   ]
  },
  {
   "cell_type": "code",
   "execution_count": 5,
   "id": "0ee8f776",
   "metadata": {
    "ExecuteTime": {
     "end_time": "2021-12-16T13:59:40.755918Z",
     "start_time": "2021-12-16T13:59:40.740959Z"
    },
    "colab": {
     "base_uri": "https://localhost:8080/",
     "height": 473
    },
    "executionInfo": {
     "elapsed": 233,
     "status": "ok",
     "timestamp": 1637660234601,
     "user": {
      "displayName": "Alex Python",
      "photoUrl": "https://lh3.googleusercontent.com/a/default-user=s64",
      "userId": "10204949499951924037"
     },
     "user_tz": -60
    },
    "id": "0ee8f776",
    "outputId": "f037a94e-2eea-4de0-f032-e776da63a0ce",
    "scrolled": false
   },
   "outputs": [
    {
     "data": {
      "text/html": [
       "<div>\n",
       "<style scoped>\n",
       "    .dataframe tbody tr th:only-of-type {\n",
       "        vertical-align: middle;\n",
       "    }\n",
       "\n",
       "    .dataframe tbody tr th {\n",
       "        vertical-align: top;\n",
       "    }\n",
       "\n",
       "    .dataframe thead th {\n",
       "        text-align: right;\n",
       "    }\n",
       "</style>\n",
       "<table border=\"1\" class=\"dataframe\">\n",
       "  <thead>\n",
       "    <tr style=\"text-align: right;\">\n",
       "      <th></th>\n",
       "      <th>Local</th>\n",
       "      <th>ip_remote_host</th>\n",
       "      <th>Timestamp</th>\n",
       "      <th>Request_line</th>\n",
       "      <th>Status_code</th>\n",
       "      <th>Size_Object</th>\n",
       "      <th>HTTP_request_header</th>\n",
       "      <th>User_Agents</th>\n",
       "    </tr>\n",
       "  </thead>\n",
       "  <tbody>\n",
       "    <tr>\n",
       "      <th>252667</th>\n",
       "      <td>www.akumenius.com</td>\n",
       "      <td>81.37.35.177</td>\n",
       "      <td>[01/Mar/2014:15:00:39</td>\n",
       "      <td>POST /hotel-list-data/ HTTP/1.1</td>\n",
       "      <td>200</td>\n",
       "      <td>25094</td>\n",
       "      <td>http://www.akumenius.com/hotel-list</td>\n",
       "      <td>Mozilla/5.0 (Windows NT 5.1) AppleWebKit/537.3...</td>\n",
       "    </tr>\n",
       "    <tr>\n",
       "      <th>252668</th>\n",
       "      <td>www.akumenius.com</td>\n",
       "      <td>176.31.255.177</td>\n",
       "      <td>[01/Mar/2014:15:00:01</td>\n",
       "      <td>GET /hotels-consulted-update HTTP/1.0</td>\n",
       "      <td>200</td>\n",
       "      <td>-</td>\n",
       "      <td>-</td>\n",
       "      <td>Wget/1.12 (linux-gnu)</td>\n",
       "    </tr>\n",
       "    <tr>\n",
       "      <th>252669</th>\n",
       "      <td>www.akumenius.com</td>\n",
       "      <td>66.249.64.103</td>\n",
       "      <td>[01/Mar/2014:15:00:50</td>\n",
       "      <td>GET /destinos-caracteristicas/hoteles-baratos-...</td>\n",
       "      <td>200</td>\n",
       "      <td>6413</td>\n",
       "      <td>-</td>\n",
       "      <td>Mozilla/5.0 (compatible; Googlebot/2.1; +http:...</td>\n",
       "    </tr>\n",
       "    <tr>\n",
       "      <th>252670</th>\n",
       "      <td>www.akumenius.com</td>\n",
       "      <td>66.249.64.98</td>\n",
       "      <td>[01/Mar/2014:15:01:10</td>\n",
       "      <td>GET /destinos-caracteristicas/hoteles-baratos-...</td>\n",
       "      <td>200</td>\n",
       "      <td>19950</td>\n",
       "      <td>-</td>\n",
       "      <td>Mozilla/5.0 (compatible; Googlebot/2.1; +http:...</td>\n",
       "    </tr>\n",
       "    <tr>\n",
       "      <th>252671</th>\n",
       "      <td>www.akumenius.com</td>\n",
       "      <td>5.10.83.95</td>\n",
       "      <td>[01/Mar/2014:15:01:15</td>\n",
       "      <td>GET /destinosEstrelles/hoteles-en-Aalsmeer_HOL...</td>\n",
       "      <td>200</td>\n",
       "      <td>7947</td>\n",
       "      <td>-</td>\n",
       "      <td>Mozilla/5.0 (compatible; AhrefsBot/5.0; +http:...</td>\n",
       "    </tr>\n",
       "  </tbody>\n",
       "</table>\n",
       "</div>"
      ],
      "text/plain": [
       "                    Local  ip_remote_host              Timestamp  \\\n",
       "252667  www.akumenius.com    81.37.35.177  [01/Mar/2014:15:00:39   \n",
       "252668  www.akumenius.com  176.31.255.177  [01/Mar/2014:15:00:01   \n",
       "252669  www.akumenius.com   66.249.64.103  [01/Mar/2014:15:00:50   \n",
       "252670  www.akumenius.com    66.249.64.98  [01/Mar/2014:15:01:10   \n",
       "252671  www.akumenius.com      5.10.83.95  [01/Mar/2014:15:01:15   \n",
       "\n",
       "                                             Request_line  Status_code  \\\n",
       "252667                    POST /hotel-list-data/ HTTP/1.1          200   \n",
       "252668              GET /hotels-consulted-update HTTP/1.0          200   \n",
       "252669  GET /destinos-caracteristicas/hoteles-baratos-...          200   \n",
       "252670  GET /destinos-caracteristicas/hoteles-baratos-...          200   \n",
       "252671  GET /destinosEstrelles/hoteles-en-Aalsmeer_HOL...          200   \n",
       "\n",
       "       Size_Object                  HTTP_request_header  \\\n",
       "252667       25094  http://www.akumenius.com/hotel-list   \n",
       "252668           -                                    -   \n",
       "252669        6413                                    -   \n",
       "252670       19950                                    -   \n",
       "252671        7947                                    -   \n",
       "\n",
       "                                              User_Agents  \n",
       "252667  Mozilla/5.0 (Windows NT 5.1) AppleWebKit/537.3...  \n",
       "252668                              Wget/1.12 (linux-gnu)  \n",
       "252669  Mozilla/5.0 (compatible; Googlebot/2.1; +http:...  \n",
       "252670  Mozilla/5.0 (compatible; Googlebot/2.1; +http:...  \n",
       "252671  Mozilla/5.0 (compatible; AhrefsBot/5.0; +http:...  "
      ]
     },
     "execution_count": 5,
     "metadata": {},
     "output_type": "execute_result"
    }
   ],
   "source": [
    "# Slice per fer una ullada al DF.\n",
    "n = random.randint(0,(len(wdf)-5))\n",
    "wdf.iloc[n:n+5]"
   ]
  },
  {
   "cell_type": "code",
   "execution_count": 6,
   "id": "f59690da",
   "metadata": {
    "ExecuteTime": {
     "end_time": "2021-12-16T13:59:41.352980Z",
     "start_time": "2021-12-16T13:59:41.284455Z"
    },
    "colab": {
     "base_uri": "https://localhost:8080/"
    },
    "executionInfo": {
     "elapsed": 3,
     "status": "ok",
     "timestamp": 1637660235536,
     "user": {
      "displayName": "Alex Python",
      "photoUrl": "https://lh3.googleusercontent.com/a/default-user=s64",
      "userId": "10204949499951924037"
     },
     "user_tz": -60
    },
    "id": "f59690da",
    "outputId": "911c6b7c-c9f6-48c8-c709-ca284327b7f8"
   },
   "outputs": [
    {
     "name": "stdout",
     "output_type": "stream",
     "text": [
      "<class 'pandas.core.frame.DataFrame'>\n",
      "Int64Index: 247981 entries, 22 to 261869\n",
      "Data columns (total 8 columns):\n",
      " #   Column               Non-Null Count   Dtype \n",
      "---  ------               --------------   ----- \n",
      " 0   Local                247981 non-null  object\n",
      " 1   ip_remote_host       247981 non-null  object\n",
      " 2   Timestamp            247981 non-null  object\n",
      " 3   Request_line         247981 non-null  object\n",
      " 4   Status_code          247981 non-null  int64 \n",
      " 5   Size_Object          247981 non-null  object\n",
      " 6   HTTP_request_header  247981 non-null  object\n",
      " 7   User_Agents          247981 non-null  object\n",
      "dtypes: int64(1), object(7)\n",
      "memory usage: 17.0+ MB\n"
     ]
    }
   ],
   "source": [
    "wdf.info()"
   ]
  },
  {
   "cell_type": "code",
   "execution_count": 7,
   "id": "c94a9850",
   "metadata": {
    "ExecuteTime": {
     "end_time": "2021-12-16T14:01:41.557956Z",
     "start_time": "2021-12-16T14:01:41.548944Z"
    },
    "id": "c94a9850"
   },
   "outputs": [],
   "source": [
    "#Funcio per reestructurar la informacio de la columna Timestamp\n",
    "def modifi_date(data):\n",
    "    '''This function will reshape the string in a Date format.'''\n",
    "    data = re.sub(r'[ [ ]' , '', data)\n",
    "    data = re.sub(r'[ / ]' , '-', data)\n",
    "    data = re.sub(r'[ : ]' , ' ', data, 1)\n",
    "    data = re.sub(r'Feb', '2', data, 1)\n",
    "    data = re.sub(r'Mar', '3', data, 1)\n",
    "    return data"
   ]
  },
  {
   "cell_type": "code",
   "execution_count": 8,
   "id": "dc1baa4d",
   "metadata": {
    "ExecuteTime": {
     "end_time": "2021-12-16T14:01:43.251952Z",
     "start_time": "2021-12-16T14:01:42.076780Z"
    },
    "executionInfo": {
     "elapsed": 1829,
     "status": "ok",
     "timestamp": 1637660239657,
     "user": {
      "displayName": "Alex Python",
      "photoUrl": "https://lh3.googleusercontent.com/a/default-user=s64",
      "userId": "10204949499951924037"
     },
     "user_tz": -60
    },
    "id": "dc1baa4d",
    "outputId": "5a880ee3-0e9e-427a-ba68-d25b3d13486e"
   },
   "outputs": [
    {
     "name": "stdout",
     "output_type": "stream",
     "text": [
      "La informació abans de l'aplicació de la funció: \n",
      "[23/Feb/2014:03:10:31\n",
      "La informació es visualitzarà d'aquesta manera: \n",
      "23-2-2014 03:10:31\n"
     ]
    }
   ],
   "source": [
    "# Aplicació de funcio dins de la columna Timestamp\n",
    "print(\"La informació abans de l'aplicació de la funció: \\n\" + wdf.iloc[0, 2])\n",
    "wdf['Timestamp'] = wdf['Timestamp'].apply(modifi_date)\n",
    "print(\"La informació es visualitzarà d'aquesta manera: \\n\" + wdf.iloc[0, 2])"
   ]
  },
  {
   "cell_type": "code",
   "execution_count": 9,
   "id": "a43cc21d",
   "metadata": {
    "ExecuteTime": {
     "end_time": "2021-12-16T14:01:43.903047Z",
     "start_time": "2021-12-16T14:01:43.268908Z"
    },
    "id": "a43cc21d"
   },
   "outputs": [],
   "source": [
    "# Convertim la columna a una Datetime de Pandas\n",
    "wdf['Timestamp'] = pd.to_datetime(wdf['Timestamp'], format=\"%d-%m-%Y %H:%M:%S\") "
   ]
  },
  {
   "cell_type": "code",
   "execution_count": 10,
   "id": "ee8346f5",
   "metadata": {
    "ExecuteTime": {
     "end_time": "2021-12-16T14:01:44.205845Z",
     "start_time": "2021-12-16T14:01:44.125090Z"
    },
    "id": "ee8346f5",
    "outputId": "62da9b1c-855a-4a95-d858-bcaa6f793d27"
   },
   "outputs": [
    {
     "name": "stdout",
     "output_type": "stream",
     "text": [
      "2014-02-23\n"
     ]
    }
   ],
   "source": [
    "#Create a new Column 'Date' with only the Year-Month-Day\n",
    "wdf['Date'] = pd.to_datetime(wdf['Timestamp']).dt.date\n",
    "#wdf['Date'] = pd.to_datetime(wdf['Timestamp']).dt.strftime('%Y-%m')\n",
    "print(wdf.iloc[0, 8])"
   ]
  },
  {
   "cell_type": "code",
   "execution_count": 11,
   "id": "5fb8e76f",
   "metadata": {
    "ExecuteTime": {
     "end_time": "2021-12-16T14:01:44.644118Z",
     "start_time": "2021-12-16T14:01:44.574477Z"
    },
    "id": "5fb8e76f",
    "outputId": "ddfffb8e-91bf-4e07-9bd3-47ae72b126b0"
   },
   "outputs": [
    {
     "name": "stdout",
     "output_type": "stream",
     "text": [
      "<class 'pandas.core.frame.DataFrame'>\n",
      "Int64Index: 247981 entries, 22 to 261869\n",
      "Data columns (total 9 columns):\n",
      " #   Column               Non-Null Count   Dtype         \n",
      "---  ------               --------------   -----         \n",
      " 0   Local                247981 non-null  object        \n",
      " 1   ip_remote_host       247981 non-null  object        \n",
      " 2   Timestamp            247981 non-null  datetime64[ns]\n",
      " 3   Request_line         247981 non-null  object        \n",
      " 4   Status_code          247981 non-null  int64         \n",
      " 5   Size_Object          247981 non-null  object        \n",
      " 6   HTTP_request_header  247981 non-null  object        \n",
      " 7   User_Agents          247981 non-null  object        \n",
      " 8   Date                 247981 non-null  object        \n",
      "dtypes: datetime64[ns](1), int64(1), object(7)\n",
      "memory usage: 18.9+ MB\n"
     ]
    }
   ],
   "source": [
    "wdf.info()"
   ]
  },
  {
   "cell_type": "markdown",
   "id": "5b3d64a1",
   "metadata": {
    "id": "5b3d64a1"
   },
   "source": [
    "Tambe crearé una nova columna en la qual reduiré el temps en periodes de 15 minuts, amb la funció pandas.Timestamp.floor.\n",
    "Així reduiré el número de connexions repetides de la mateixa IP en\n",
    "intervals molt curts de temps de solament un per cada 10 minuts.\n",
    "Sé que això pot no comptabilitzar de forma exacte les sesions d´un usuari al dia,però partiré d'aquesta hipòtesi de\n",
    "treball."
   ]
  },
  {
   "cell_type": "code",
   "execution_count": 12,
   "id": "ceebbf8c",
   "metadata": {
    "ExecuteTime": {
     "end_time": "2021-12-16T14:01:45.721955Z",
     "start_time": "2021-12-16T14:01:45.708962Z"
    },
    "id": "ceebbf8c"
   },
   "outputs": [],
   "source": [
    "wdf['DateFloor'] = wdf['Timestamp'].dt.floor(freq='15T')"
   ]
  },
  {
   "cell_type": "code",
   "execution_count": 13,
   "id": "e17ec3ac",
   "metadata": {
    "ExecuteTime": {
     "end_time": "2021-12-16T14:01:46.430452Z",
     "start_time": "2021-12-16T14:01:46.356622Z"
    },
    "colab": {
     "base_uri": "https://localhost:8080/"
    },
    "executionInfo": {
     "elapsed": 3,
     "status": "ok",
     "timestamp": 1637660242582,
     "user": {
      "displayName": "Alex Python",
      "photoUrl": "https://lh3.googleusercontent.com/a/default-user=s64",
      "userId": "10204949499951924037"
     },
     "user_tz": -60
    },
    "id": "e17ec3ac",
    "outputId": "62842a8c-b9a2-45c7-87a4-e05527d483f2"
   },
   "outputs": [
    {
     "name": "stdout",
     "output_type": "stream",
     "text": [
      "<class 'pandas.core.frame.DataFrame'>\n",
      "Int64Index: 247981 entries, 22 to 261869\n",
      "Data columns (total 10 columns):\n",
      " #   Column               Non-Null Count   Dtype         \n",
      "---  ------               --------------   -----         \n",
      " 0   Local                247981 non-null  object        \n",
      " 1   ip_remote_host       247981 non-null  object        \n",
      " 2   Timestamp            247981 non-null  datetime64[ns]\n",
      " 3   Request_line         247981 non-null  object        \n",
      " 4   Status_code          247981 non-null  int64         \n",
      " 5   Size_Object          247981 non-null  object        \n",
      " 6   HTTP_request_header  247981 non-null  object        \n",
      " 7   User_Agents          247981 non-null  object        \n",
      " 8   Date                 247981 non-null  object        \n",
      " 9   DateFloor            247981 non-null  datetime64[ns]\n",
      "dtypes: datetime64[ns](2), int64(1), object(7)\n",
      "memory usage: 20.8+ MB\n",
      "2014-02-23 03:10:31\n",
      "2014-02-23\n",
      "2014-02-23 03:00:00\n"
     ]
    }
   ],
   "source": [
    "# Comprovem els canvis en les columnes del DF\n",
    "wdf.info()\n",
    "print(wdf.iloc[0, 2])\n",
    "print(wdf.iloc[0, 8])\n",
    "print(wdf.iloc[0, 9])"
   ]
  },
  {
   "cell_type": "code",
   "execution_count": 14,
   "id": "ca6b5441",
   "metadata": {
    "ExecuteTime": {
     "end_time": "2021-12-16T14:01:46.965995Z",
     "start_time": "2021-12-16T14:01:46.949013Z"
    },
    "id": "ca6b5441",
    "outputId": "5a39d68d-bdf6-42a4-a1d0-f41cc995f55f"
   },
   "outputs": [
    {
     "data": {
      "text/html": [
       "<div>\n",
       "<style scoped>\n",
       "    .dataframe tbody tr th:only-of-type {\n",
       "        vertical-align: middle;\n",
       "    }\n",
       "\n",
       "    .dataframe tbody tr th {\n",
       "        vertical-align: top;\n",
       "    }\n",
       "\n",
       "    .dataframe thead th {\n",
       "        text-align: right;\n",
       "    }\n",
       "</style>\n",
       "<table border=\"1\" class=\"dataframe\">\n",
       "  <thead>\n",
       "    <tr style=\"text-align: right;\">\n",
       "      <th></th>\n",
       "      <th>Local</th>\n",
       "      <th>ip_remote_host</th>\n",
       "      <th>Timestamp</th>\n",
       "      <th>Request_line</th>\n",
       "      <th>Status_code</th>\n",
       "      <th>Size_Object</th>\n",
       "      <th>HTTP_request_header</th>\n",
       "      <th>User_Agents</th>\n",
       "      <th>Date</th>\n",
       "      <th>DateFloor</th>\n",
       "    </tr>\n",
       "  </thead>\n",
       "  <tbody>\n",
       "    <tr>\n",
       "      <th>22</th>\n",
       "      <td>www.akumenius.com</td>\n",
       "      <td>66.249.76.216</td>\n",
       "      <td>2014-02-23 03:10:31</td>\n",
       "      <td>GET /hoteles-baratos/ofertas-hotel-Club-&amp;-Hote...</td>\n",
       "      <td>404</td>\n",
       "      <td>3100</td>\n",
       "      <td>-</td>\n",
       "      <td>Mozilla/5.0 (compatible; Googlebot/2.1; +http:...</td>\n",
       "      <td>2014-02-23</td>\n",
       "      <td>2014-02-23 03:00:00</td>\n",
       "    </tr>\n",
       "    <tr>\n",
       "      <th>23</th>\n",
       "      <td>www.akumenius.com</td>\n",
       "      <td>66.249.76.216</td>\n",
       "      <td>2014-02-23 03:10:33</td>\n",
       "      <td>GET /hoteles-baratos/ofertas-hotel-Metropolis-...</td>\n",
       "      <td>404</td>\n",
       "      <td>3100</td>\n",
       "      <td>-</td>\n",
       "      <td>Mozilla/5.0 (compatible; Googlebot/2.1; +http:...</td>\n",
       "      <td>2014-02-23</td>\n",
       "      <td>2014-02-23 03:00:00</td>\n",
       "    </tr>\n",
       "  </tbody>\n",
       "</table>\n",
       "</div>"
      ],
      "text/plain": [
       "                Local ip_remote_host           Timestamp  \\\n",
       "22  www.akumenius.com  66.249.76.216 2014-02-23 03:10:31   \n",
       "23  www.akumenius.com  66.249.76.216 2014-02-23 03:10:33   \n",
       "\n",
       "                                         Request_line  Status_code  \\\n",
       "22  GET /hoteles-baratos/ofertas-hotel-Club-&-Hote...          404   \n",
       "23  GET /hoteles-baratos/ofertas-hotel-Metropolis-...          404   \n",
       "\n",
       "   Size_Object HTTP_request_header  \\\n",
       "22        3100                   -   \n",
       "23        3100                   -   \n",
       "\n",
       "                                          User_Agents        Date  \\\n",
       "22  Mozilla/5.0 (compatible; Googlebot/2.1; +http:...  2014-02-23   \n",
       "23  Mozilla/5.0 (compatible; Googlebot/2.1; +http:...  2014-02-23   \n",
       "\n",
       "             DateFloor  \n",
       "22 2014-02-23 03:00:00  \n",
       "23 2014-02-23 03:00:00  "
      ]
     },
     "execution_count": 14,
     "metadata": {},
     "output_type": "execute_result"
    }
   ],
   "source": [
    "wdf.head(2)"
   ]
  },
  {
   "cell_type": "markdown",
   "id": "512c0ca8",
   "metadata": {
    "id": "512c0ca8"
   },
   "source": [
    "## Nivell 2"
   ]
  },
  {
   "cell_type": "markdown",
   "id": "77769fc5",
   "metadata": {
    "id": "77769fc5"
   },
   "source": [
    "### Exercici 2\n",
    "* Neteja, preprocesa, estructura i transforma (dataframe) les dades del registre d'Accés a la web."
   ]
  },
  {
   "cell_type": "markdown",
   "id": "dc8TH3ugHKDI",
   "metadata": {
    "id": "dc8TH3ugHKDI"
   },
   "source": [
    "### Splittig \"Request Line\".\n",
    "* Using `Regular expressions` we split the column Request_line into new 4 columns: Client_method request, Requested_Resource, Protocol, and Versio_Protocol."
   ]
  },
  {
   "cell_type": "code",
   "execution_count": 15,
   "id": "f63483d4",
   "metadata": {
    "ExecuteTime": {
     "end_time": "2021-12-16T14:01:49.605585Z",
     "start_time": "2021-12-16T14:01:49.563665Z"
    }
   },
   "outputs": [],
   "source": [
    "wdf1 = wdf.copy()"
   ]
  },
  {
   "cell_type": "markdown",
   "id": "2220ecd6",
   "metadata": {},
   "source": [
    "* In the cell below, the unique code line will create all 4 columns in the DF and then split into 4 groups the string found\n",
    "  in the \"Request Line\" column, as per the regular Expression defined."
   ]
  },
  {
   "cell_type": "code",
   "execution_count": 16,
   "id": "bf798b81",
   "metadata": {
    "ExecuteTime": {
     "end_time": "2021-12-16T14:01:51.337579Z",
     "start_time": "2021-12-16T14:01:50.708874Z"
    }
   },
   "outputs": [],
   "source": [
    "wdf1[['Client_method request', 'Requested_Resource', 'Protocol', 'Versio_Protocol']] = wdf1['Request_line'].str.extract(r'([A-Z]+)\\s(/.*)\\s([A-Z]+)/([0-9.]+)')"
   ]
  },
  {
   "cell_type": "code",
   "execution_count": 17,
   "id": "3439b20e",
   "metadata": {
    "ExecuteTime": {
     "end_time": "2021-12-16T14:01:51.512213Z",
     "start_time": "2021-12-16T14:01:51.369672Z"
    }
   },
   "outputs": [],
   "source": [
    "# The column \"request_line\" is not necessary anymore, so it is possible to drop it off.\n",
    "wdf1.drop(columns = 'Request_line', axis=1, inplace=True)"
   ]
  },
  {
   "cell_type": "code",
   "execution_count": 18,
   "id": "3960ab88",
   "metadata": {
    "ExecuteTime": {
     "end_time": "2021-12-16T14:01:53.696735Z",
     "start_time": "2021-12-16T14:01:53.596959Z"
    }
   },
   "outputs": [
    {
     "name": "stdout",
     "output_type": "stream",
     "text": [
      "<class 'pandas.core.frame.DataFrame'>\n",
      "Int64Index: 247981 entries, 22 to 261869\n",
      "Data columns (total 13 columns):\n",
      " #   Column                 Non-Null Count   Dtype         \n",
      "---  ------                 --------------   -----         \n",
      " 0   Local                  247981 non-null  object        \n",
      " 1   ip_remote_host         247981 non-null  object        \n",
      " 2   Timestamp              247981 non-null  datetime64[ns]\n",
      " 3   Status_code            247981 non-null  int64         \n",
      " 4   Size_Object            247981 non-null  object        \n",
      " 5   HTTP_request_header    247981 non-null  object        \n",
      " 6   User_Agents            247981 non-null  object        \n",
      " 7   Date                   247981 non-null  object        \n",
      " 8   DateFloor              247981 non-null  datetime64[ns]\n",
      " 9   Client_method request  247939 non-null  object        \n",
      " 10  Requested_Resource     247939 non-null  object        \n",
      " 11  Protocol               247939 non-null  object        \n",
      " 12  Versio_Protocol        247939 non-null  object        \n",
      "dtypes: datetime64[ns](2), int64(1), object(10)\n",
      "memory usage: 26.5+ MB\n"
     ]
    }
   ],
   "source": [
    "wdf1.info()"
   ]
  },
  {
   "cell_type": "code",
   "execution_count": 19,
   "id": "8dd5e33b",
   "metadata": {
    "ExecuteTime": {
     "end_time": "2021-12-16T14:01:54.233574Z",
     "start_time": "2021-12-16T14:01:54.212599Z"
    }
   },
   "outputs": [
    {
     "data": {
      "text/html": [
       "<div>\n",
       "<style scoped>\n",
       "    .dataframe tbody tr th:only-of-type {\n",
       "        vertical-align: middle;\n",
       "    }\n",
       "\n",
       "    .dataframe tbody tr th {\n",
       "        vertical-align: top;\n",
       "    }\n",
       "\n",
       "    .dataframe thead th {\n",
       "        text-align: right;\n",
       "    }\n",
       "</style>\n",
       "<table border=\"1\" class=\"dataframe\">\n",
       "  <thead>\n",
       "    <tr style=\"text-align: right;\">\n",
       "      <th></th>\n",
       "      <th>Local</th>\n",
       "      <th>ip_remote_host</th>\n",
       "      <th>Timestamp</th>\n",
       "      <th>Status_code</th>\n",
       "      <th>Size_Object</th>\n",
       "      <th>HTTP_request_header</th>\n",
       "      <th>User_Agents</th>\n",
       "      <th>Date</th>\n",
       "      <th>DateFloor</th>\n",
       "      <th>Client_method request</th>\n",
       "      <th>Requested_Resource</th>\n",
       "      <th>Protocol</th>\n",
       "      <th>Versio_Protocol</th>\n",
       "    </tr>\n",
       "  </thead>\n",
       "  <tbody>\n",
       "    <tr>\n",
       "      <th>22</th>\n",
       "      <td>www.akumenius.com</td>\n",
       "      <td>66.249.76.216</td>\n",
       "      <td>2014-02-23 03:10:31</td>\n",
       "      <td>404</td>\n",
       "      <td>3100</td>\n",
       "      <td>-</td>\n",
       "      <td>Mozilla/5.0 (compatible; Googlebot/2.1; +http:...</td>\n",
       "      <td>2014-02-23</td>\n",
       "      <td>2014-02-23 03:00:00</td>\n",
       "      <td>GET</td>\n",
       "      <td>/hoteles-baratos/ofertas-hotel-Club-&amp;-Hotel-Le...</td>\n",
       "      <td>HTTP</td>\n",
       "      <td>1.1</td>\n",
       "    </tr>\n",
       "    <tr>\n",
       "      <th>23</th>\n",
       "      <td>www.akumenius.com</td>\n",
       "      <td>66.249.76.216</td>\n",
       "      <td>2014-02-23 03:10:33</td>\n",
       "      <td>404</td>\n",
       "      <td>3100</td>\n",
       "      <td>-</td>\n",
       "      <td>Mozilla/5.0 (compatible; Googlebot/2.1; +http:...</td>\n",
       "      <td>2014-02-23</td>\n",
       "      <td>2014-02-23 03:00:00</td>\n",
       "      <td>GET</td>\n",
       "      <td>/hoteles-baratos/ofertas-hotel-Metropolis-Hote...</td>\n",
       "      <td>HTTP</td>\n",
       "      <td>1.1</td>\n",
       "    </tr>\n",
       "  </tbody>\n",
       "</table>\n",
       "</div>"
      ],
      "text/plain": [
       "                Local ip_remote_host           Timestamp  Status_code  \\\n",
       "22  www.akumenius.com  66.249.76.216 2014-02-23 03:10:31          404   \n",
       "23  www.akumenius.com  66.249.76.216 2014-02-23 03:10:33          404   \n",
       "\n",
       "   Size_Object HTTP_request_header  \\\n",
       "22        3100                   -   \n",
       "23        3100                   -   \n",
       "\n",
       "                                          User_Agents        Date  \\\n",
       "22  Mozilla/5.0 (compatible; Googlebot/2.1; +http:...  2014-02-23   \n",
       "23  Mozilla/5.0 (compatible; Googlebot/2.1; +http:...  2014-02-23   \n",
       "\n",
       "             DateFloor Client_method request  \\\n",
       "22 2014-02-23 03:00:00                   GET   \n",
       "23 2014-02-23 03:00:00                   GET   \n",
       "\n",
       "                                   Requested_Resource Protocol Versio_Protocol  \n",
       "22  /hoteles-baratos/ofertas-hotel-Club-&-Hotel-Le...     HTTP             1.1  \n",
       "23  /hoteles-baratos/ofertas-hotel-Metropolis-Hote...     HTTP             1.1  "
      ]
     },
     "execution_count": 19,
     "metadata": {},
     "output_type": "execute_result"
    }
   ],
   "source": [
    "wdf1.head(2)"
   ]
  },
  {
   "cell_type": "markdown",
   "id": "82e0426d",
   "metadata": {},
   "source": [
    "### 2.1.2  Splittig  \"User_Agents\".\n",
    "* Using a different [approach](https://pypi.org/project/user-agents/) we split the column User_Agents\n",
    "  into new 4 columns: user_agent.browser.family , user_agent.os.family,\n",
    "  user_agent.device.family , and user_agent.device.brand.\n",
    "  "
   ]
  },
  {
   "cell_type": "code",
   "execution_count": 20,
   "id": "ed49ff0f",
   "metadata": {
    "ExecuteTime": {
     "end_time": "2021-12-16T14:01:55.683920Z",
     "start_time": "2021-12-16T14:01:55.644027Z"
    }
   },
   "outputs": [],
   "source": [
    "wdf2 = wdf1.copy()"
   ]
  },
  {
   "cell_type": "code",
   "execution_count": 21,
   "id": "aa745e6c",
   "metadata": {
    "ExecuteTime": {
     "end_time": "2021-12-16T14:02:17.389852Z",
     "start_time": "2021-12-16T14:01:56.165007Z"
    }
   },
   "outputs": [],
   "source": [
    "wdf2['user_agent_browser_family'] = wdf2['User_Agents'].apply(lambda x: parse(x).browser.family) \n",
    "wdf2['user_agent.os.family'] = wdf2['User_Agents'].apply(lambda x: parse(x).os.family)   \n",
    "wdf2['user_agent_browser_family'] = wdf2['User_Agents'].apply(lambda x: parse(x).device.family)   \n",
    "wdf2['user_agent.device.brand'] = wdf2['User_Agents'].apply(lambda x: parse(x).device.brand)   "
   ]
  },
  {
   "cell_type": "code",
   "execution_count": 22,
   "id": "f8fa838f",
   "metadata": {
    "ExecuteTime": {
     "end_time": "2021-12-16T14:02:17.436834Z",
     "start_time": "2021-12-16T14:02:17.421873Z"
    }
   },
   "outputs": [
    {
     "data": {
      "text/html": [
       "<div>\n",
       "<style scoped>\n",
       "    .dataframe tbody tr th:only-of-type {\n",
       "        vertical-align: middle;\n",
       "    }\n",
       "\n",
       "    .dataframe tbody tr th {\n",
       "        vertical-align: top;\n",
       "    }\n",
       "\n",
       "    .dataframe thead th {\n",
       "        text-align: right;\n",
       "    }\n",
       "</style>\n",
       "<table border=\"1\" class=\"dataframe\">\n",
       "  <thead>\n",
       "    <tr style=\"text-align: right;\">\n",
       "      <th></th>\n",
       "      <th>Local</th>\n",
       "      <th>ip_remote_host</th>\n",
       "      <th>Timestamp</th>\n",
       "      <th>Status_code</th>\n",
       "      <th>Size_Object</th>\n",
       "      <th>HTTP_request_header</th>\n",
       "      <th>User_Agents</th>\n",
       "      <th>Date</th>\n",
       "      <th>DateFloor</th>\n",
       "      <th>Client_method request</th>\n",
       "      <th>Requested_Resource</th>\n",
       "      <th>Protocol</th>\n",
       "      <th>Versio_Protocol</th>\n",
       "      <th>user_agent_browser_family</th>\n",
       "      <th>user_agent.os.family</th>\n",
       "      <th>user_agent.device.brand</th>\n",
       "    </tr>\n",
       "  </thead>\n",
       "  <tbody>\n",
       "    <tr>\n",
       "      <th>22</th>\n",
       "      <td>www.akumenius.com</td>\n",
       "      <td>66.249.76.216</td>\n",
       "      <td>2014-02-23 03:10:31</td>\n",
       "      <td>404</td>\n",
       "      <td>3100</td>\n",
       "      <td>-</td>\n",
       "      <td>Mozilla/5.0 (compatible; Googlebot/2.1; +http:...</td>\n",
       "      <td>2014-02-23</td>\n",
       "      <td>2014-02-23 03:00:00</td>\n",
       "      <td>GET</td>\n",
       "      <td>/hoteles-baratos/ofertas-hotel-Club-&amp;-Hotel-Le...</td>\n",
       "      <td>HTTP</td>\n",
       "      <td>1.1</td>\n",
       "      <td>Spider</td>\n",
       "      <td>Other</td>\n",
       "      <td>Spider</td>\n",
       "    </tr>\n",
       "    <tr>\n",
       "      <th>23</th>\n",
       "      <td>www.akumenius.com</td>\n",
       "      <td>66.249.76.216</td>\n",
       "      <td>2014-02-23 03:10:33</td>\n",
       "      <td>404</td>\n",
       "      <td>3100</td>\n",
       "      <td>-</td>\n",
       "      <td>Mozilla/5.0 (compatible; Googlebot/2.1; +http:...</td>\n",
       "      <td>2014-02-23</td>\n",
       "      <td>2014-02-23 03:00:00</td>\n",
       "      <td>GET</td>\n",
       "      <td>/hoteles-baratos/ofertas-hotel-Metropolis-Hote...</td>\n",
       "      <td>HTTP</td>\n",
       "      <td>1.1</td>\n",
       "      <td>Spider</td>\n",
       "      <td>Other</td>\n",
       "      <td>Spider</td>\n",
       "    </tr>\n",
       "  </tbody>\n",
       "</table>\n",
       "</div>"
      ],
      "text/plain": [
       "                Local ip_remote_host           Timestamp  Status_code  \\\n",
       "22  www.akumenius.com  66.249.76.216 2014-02-23 03:10:31          404   \n",
       "23  www.akumenius.com  66.249.76.216 2014-02-23 03:10:33          404   \n",
       "\n",
       "   Size_Object HTTP_request_header  \\\n",
       "22        3100                   -   \n",
       "23        3100                   -   \n",
       "\n",
       "                                          User_Agents        Date  \\\n",
       "22  Mozilla/5.0 (compatible; Googlebot/2.1; +http:...  2014-02-23   \n",
       "23  Mozilla/5.0 (compatible; Googlebot/2.1; +http:...  2014-02-23   \n",
       "\n",
       "             DateFloor Client_method request  \\\n",
       "22 2014-02-23 03:00:00                   GET   \n",
       "23 2014-02-23 03:00:00                   GET   \n",
       "\n",
       "                                   Requested_Resource Protocol  \\\n",
       "22  /hoteles-baratos/ofertas-hotel-Club-&-Hotel-Le...     HTTP   \n",
       "23  /hoteles-baratos/ofertas-hotel-Metropolis-Hote...     HTTP   \n",
       "\n",
       "   Versio_Protocol user_agent_browser_family user_agent.os.family  \\\n",
       "22             1.1                    Spider                Other   \n",
       "23             1.1                    Spider                Other   \n",
       "\n",
       "   user_agent.device.brand  \n",
       "22                  Spider  \n",
       "23                  Spider  "
      ]
     },
     "execution_count": 22,
     "metadata": {},
     "output_type": "execute_result"
    }
   ],
   "source": [
    "wdf2.head(2)"
   ]
  },
  {
   "cell_type": "code",
   "execution_count": 23,
   "id": "51d4546c",
   "metadata": {
    "ExecuteTime": {
     "end_time": "2021-12-16T14:02:28.793078Z",
     "start_time": "2021-12-16T14:02:17.470756Z"
    }
   },
   "outputs": [],
   "source": [
    "wdf2.to_csv(r\"./data/wdf2.txt\")"
   ]
  },
  {
   "cell_type": "markdown",
   "id": "1162a900",
   "metadata": {
    "id": "1162a900"
   },
   "source": [
    "## Nivell 3\n",
    "* Mostra'm la teva creativitat, Sorprèn-me fes un pas més enllà amb l'anàlisi anterior."
   ]
  },
  {
   "cell_type": "markdown",
   "id": "b7c73b79",
   "metadata": {},
   "source": [
    "### Exercici 3. A close view of user's habits."
   ]
  },
  {
   "cell_type": "markdown",
   "id": "572cf2f5",
   "metadata": {},
   "source": [
    "* In this section I want to answer two questions about the habits of the users who requested information from the server.\n",
    "- What are the device and the browser more used."
   ]
  },
  {
   "cell_type": "code",
   "execution_count": 24,
   "id": "471ad187",
   "metadata": {
    "ExecuteTime": {
     "end_time": "2021-12-16T14:02:28.856124Z",
     "start_time": "2021-12-16T14:02:28.826155Z"
    }
   },
   "outputs": [],
   "source": [
    "wdf3 = wdf[['Timestamp','ip_remote_host', 'User_Agents']]"
   ]
  },
  {
   "cell_type": "code",
   "execution_count": 25,
   "id": "08ec177b",
   "metadata": {
    "ExecuteTime": {
     "end_time": "2021-12-16T14:02:30.128672Z",
     "start_time": "2021-12-16T14:02:28.889036Z"
    }
   },
   "outputs": [],
   "source": [
    "# Agruparem per la columna timestamp per fraccions de 15 min i la columne per les ip. Aixi obtidrem un DF amb totes les ip (uniques) per franges de 15 min.\n",
    "wdf3 = pd.DataFrame(wdf3.groupby(by =[pd.Grouper(key='Timestamp', freq='15min'), 'ip_remote_host','User_Agents'])['ip_remote_host'].unique()) \n",
    "wdf3.rename(columns={'ip_remote_host': 'ip'}, inplace=True)\n",
    "wdf3.reset_index(inplace=True)\n",
    "wdf3.drop(columns='ip',inplace=True)"
   ]
  },
  {
   "cell_type": "code",
   "execution_count": 26,
   "id": "597da239",
   "metadata": {
    "ExecuteTime": {
     "end_time": "2021-12-16T14:02:30.207725Z",
     "start_time": "2021-12-16T14:02:30.179639Z"
    }
   },
   "outputs": [
    {
     "name": "stdout",
     "output_type": "stream",
     "text": [
      "<class 'pandas.core.frame.DataFrame'>\n",
      "RangeIndex: 20718 entries, 0 to 20717\n",
      "Data columns (total 3 columns):\n",
      " #   Column          Non-Null Count  Dtype         \n",
      "---  ------          --------------  -----         \n",
      " 0   Timestamp       20718 non-null  datetime64[ns]\n",
      " 1   ip_remote_host  20718 non-null  object        \n",
      " 2   User_Agents     20718 non-null  object        \n",
      "dtypes: datetime64[ns](1), object(2)\n",
      "memory usage: 485.7+ KB\n"
     ]
    }
   ],
   "source": [
    "wdf3.info()"
   ]
  },
  {
   "cell_type": "code",
   "execution_count": 27,
   "id": "af06d987",
   "metadata": {
    "ExecuteTime": {
     "end_time": "2021-12-16T14:02:51.065578Z",
     "start_time": "2021-12-16T14:02:30.256714Z"
    }
   },
   "outputs": [],
   "source": [
    "wdf3['Is mobile'] = wdf3['User_Agents'].apply(lambda x: parse(x).is_mobile)\n",
    "wdf3['Is tablet'] = wdf3['User_Agents'].apply(lambda x: parse(x).is_tablet)\n",
    "wdf3['Is pc'] = wdf3['User_Agents'].apply(lambda x: parse(x).is_pc)\n",
    "wdf3['Is bot'] = wdf3['User_Agents'].apply(lambda x: parse(x).is_bot)\n",
    "wdf3['Device Model'] = wdf3['User_Agents'].apply(lambda x: parse(x).device.model)\n",
    "wdf3['Device Brand'] = wdf3['User_Agents'].apply(lambda x: parse(x).device.brand)"
   ]
  },
  {
   "cell_type": "code",
   "execution_count": 28,
   "id": "250af08e",
   "metadata": {
    "ExecuteTime": {
     "end_time": "2021-12-16T14:02:51.128552Z",
     "start_time": "2021-12-16T14:02:51.114163Z"
    }
   },
   "outputs": [
    {
     "data": {
      "text/html": [
       "<div>\n",
       "<style scoped>\n",
       "    .dataframe tbody tr th:only-of-type {\n",
       "        vertical-align: middle;\n",
       "    }\n",
       "\n",
       "    .dataframe tbody tr th {\n",
       "        vertical-align: top;\n",
       "    }\n",
       "\n",
       "    .dataframe thead th {\n",
       "        text-align: right;\n",
       "    }\n",
       "</style>\n",
       "<table border=\"1\" class=\"dataframe\">\n",
       "  <thead>\n",
       "    <tr style=\"text-align: right;\">\n",
       "      <th></th>\n",
       "      <th>Timestamp</th>\n",
       "      <th>ip_remote_host</th>\n",
       "      <th>User_Agents</th>\n",
       "      <th>Is mobile</th>\n",
       "      <th>Is tablet</th>\n",
       "      <th>Is pc</th>\n",
       "      <th>Is bot</th>\n",
       "      <th>Device Model</th>\n",
       "      <th>Device Brand</th>\n",
       "    </tr>\n",
       "  </thead>\n",
       "  <tbody>\n",
       "    <tr>\n",
       "      <th>0</th>\n",
       "      <td>2014-02-23 03:00:00</td>\n",
       "      <td>157.55.35.112</td>\n",
       "      <td>Mozilla/5.0 (compatible; bingbot/2.0; +http://...</td>\n",
       "      <td>False</td>\n",
       "      <td>False</td>\n",
       "      <td>False</td>\n",
       "      <td>True</td>\n",
       "      <td>Desktop</td>\n",
       "      <td>Spider</td>\n",
       "    </tr>\n",
       "    <tr>\n",
       "      <th>1</th>\n",
       "      <td>2014-02-23 03:00:00</td>\n",
       "      <td>157.56.92.174</td>\n",
       "      <td>Mozilla/5.0 (compatible; bingbot/2.0; +http://...</td>\n",
       "      <td>False</td>\n",
       "      <td>False</td>\n",
       "      <td>False</td>\n",
       "      <td>True</td>\n",
       "      <td>Desktop</td>\n",
       "      <td>Spider</td>\n",
       "    </tr>\n",
       "    <tr>\n",
       "      <th>2</th>\n",
       "      <td>2014-02-23 03:00:00</td>\n",
       "      <td>180.76.5.172</td>\n",
       "      <td>Mozilla/5.0 (compatible; Baiduspider/2.0; +htt...</td>\n",
       "      <td>False</td>\n",
       "      <td>False</td>\n",
       "      <td>False</td>\n",
       "      <td>True</td>\n",
       "      <td>Desktop</td>\n",
       "      <td>Spider</td>\n",
       "    </tr>\n",
       "    <tr>\n",
       "      <th>3</th>\n",
       "      <td>2014-02-23 03:00:00</td>\n",
       "      <td>180.76.5.18</td>\n",
       "      <td>Mozilla/5.0 (compatible; Baiduspider/2.0; +htt...</td>\n",
       "      <td>False</td>\n",
       "      <td>False</td>\n",
       "      <td>False</td>\n",
       "      <td>True</td>\n",
       "      <td>Desktop</td>\n",
       "      <td>Spider</td>\n",
       "    </tr>\n",
       "    <tr>\n",
       "      <th>4</th>\n",
       "      <td>2014-02-23 03:00:00</td>\n",
       "      <td>180.76.5.188</td>\n",
       "      <td>Mozilla/5.0 (compatible; Baiduspider/2.0; +htt...</td>\n",
       "      <td>False</td>\n",
       "      <td>False</td>\n",
       "      <td>False</td>\n",
       "      <td>True</td>\n",
       "      <td>Desktop</td>\n",
       "      <td>Spider</td>\n",
       "    </tr>\n",
       "  </tbody>\n",
       "</table>\n",
       "</div>"
      ],
      "text/plain": [
       "            Timestamp ip_remote_host  \\\n",
       "0 2014-02-23 03:00:00  157.55.35.112   \n",
       "1 2014-02-23 03:00:00  157.56.92.174   \n",
       "2 2014-02-23 03:00:00   180.76.5.172   \n",
       "3 2014-02-23 03:00:00    180.76.5.18   \n",
       "4 2014-02-23 03:00:00   180.76.5.188   \n",
       "\n",
       "                                         User_Agents  Is mobile  Is tablet  \\\n",
       "0  Mozilla/5.0 (compatible; bingbot/2.0; +http://...      False      False   \n",
       "1  Mozilla/5.0 (compatible; bingbot/2.0; +http://...      False      False   \n",
       "2  Mozilla/5.0 (compatible; Baiduspider/2.0; +htt...      False      False   \n",
       "3  Mozilla/5.0 (compatible; Baiduspider/2.0; +htt...      False      False   \n",
       "4  Mozilla/5.0 (compatible; Baiduspider/2.0; +htt...      False      False   \n",
       "\n",
       "   Is pc  Is bot Device Model Device Brand  \n",
       "0  False    True      Desktop       Spider  \n",
       "1  False    True      Desktop       Spider  \n",
       "2  False    True      Desktop       Spider  \n",
       "3  False    True      Desktop       Spider  \n",
       "4  False    True      Desktop       Spider  "
      ]
     },
     "execution_count": 28,
     "metadata": {},
     "output_type": "execute_result"
    }
   ],
   "source": [
    "wdf3.head()"
   ]
  },
  {
   "cell_type": "markdown",
   "id": "a612babe",
   "metadata": {},
   "source": [
    "* In the cell below I am going to use the Pandas function **idmax** to create a single column with all the combined categories from columns: Is mobile ',' Is tablet ',' Is pc ',' Is bot '."
   ]
  },
  {
   "cell_type": "code",
   "execution_count": 29,
   "id": "9e0903b5",
   "metadata": {
    "ExecuteTime": {
     "end_time": "2021-12-16T14:02:53.173752Z",
     "start_time": "2021-12-16T14:02:53.140842Z"
    }
   },
   "outputs": [],
   "source": [
    "wdf3[\"category\"] = wdf3[['Is mobile','Is tablet','Is pc','Is bot']].idxmax(axis=1) "
   ]
  },
  {
   "cell_type": "code",
   "execution_count": 30,
   "id": "2b570e3f",
   "metadata": {
    "ExecuteTime": {
     "end_time": "2021-12-16T14:02:54.140837Z",
     "start_time": "2021-12-16T14:02:54.125878Z"
    }
   },
   "outputs": [],
   "source": [
    "col= ['Is mobile', 'Is tablet', 'Is pc', 'Is bot']\n",
    "wdf3.drop(columns=col , axis=1, inplace=True)"
   ]
  },
  {
   "cell_type": "code",
   "execution_count": 31,
   "id": "8521558b",
   "metadata": {
    "ExecuteTime": {
     "end_time": "2021-12-16T14:02:54.847388Z",
     "start_time": "2021-12-16T14:02:54.829413Z"
    }
   },
   "outputs": [
    {
     "data": {
      "text/html": [
       "<div>\n",
       "<style scoped>\n",
       "    .dataframe tbody tr th:only-of-type {\n",
       "        vertical-align: middle;\n",
       "    }\n",
       "\n",
       "    .dataframe tbody tr th {\n",
       "        vertical-align: top;\n",
       "    }\n",
       "\n",
       "    .dataframe thead th {\n",
       "        text-align: right;\n",
       "    }\n",
       "</style>\n",
       "<table border=\"1\" class=\"dataframe\">\n",
       "  <thead>\n",
       "    <tr style=\"text-align: right;\">\n",
       "      <th></th>\n",
       "      <th>Timestamp</th>\n",
       "      <th>ip_remote_host</th>\n",
       "      <th>User_Agents</th>\n",
       "      <th>Device Model</th>\n",
       "      <th>Device Brand</th>\n",
       "      <th>category</th>\n",
       "    </tr>\n",
       "  </thead>\n",
       "  <tbody>\n",
       "    <tr>\n",
       "      <th>20713</th>\n",
       "      <td>2014-03-02 03:00:00</td>\n",
       "      <td>206.198.5.33</td>\n",
       "      <td>Mozilla/4.0 (compatible;)</td>\n",
       "      <td>None</td>\n",
       "      <td>None</td>\n",
       "      <td>Is mobile</td>\n",
       "    </tr>\n",
       "    <tr>\n",
       "      <th>20714</th>\n",
       "      <td>2014-03-02 03:00:00</td>\n",
       "      <td>5.255.253.53</td>\n",
       "      <td>Mozilla/5.0 (compatible; YandexBot/3.0; +http:...</td>\n",
       "      <td>Desktop</td>\n",
       "      <td>Spider</td>\n",
       "      <td>Is bot</td>\n",
       "    </tr>\n",
       "    <tr>\n",
       "      <th>20715</th>\n",
       "      <td>2014-03-02 03:00:00</td>\n",
       "      <td>66.249.76.216</td>\n",
       "      <td>Mozilla/5.0 (compatible; Googlebot/2.1; +http:...</td>\n",
       "      <td>Desktop</td>\n",
       "      <td>Spider</td>\n",
       "      <td>Is bot</td>\n",
       "    </tr>\n",
       "    <tr>\n",
       "      <th>20716</th>\n",
       "      <td>2014-03-02 03:00:00</td>\n",
       "      <td>66.249.76.216</td>\n",
       "      <td>Mozilla/5.0 (iPhone; CPU iPhone OS 6_0 like Ma...</td>\n",
       "      <td>Smartphone</td>\n",
       "      <td>Spider</td>\n",
       "      <td>Is mobile</td>\n",
       "    </tr>\n",
       "    <tr>\n",
       "      <th>20717</th>\n",
       "      <td>2014-03-02 03:00:00</td>\n",
       "      <td>74.86.158.107</td>\n",
       "      <td>Mozilla/5.0+(compatible; UptimeRobot/2.0; http...</td>\n",
       "      <td>Desktop</td>\n",
       "      <td>Spider</td>\n",
       "      <td>Is bot</td>\n",
       "    </tr>\n",
       "  </tbody>\n",
       "</table>\n",
       "</div>"
      ],
      "text/plain": [
       "                Timestamp ip_remote_host  \\\n",
       "20713 2014-03-02 03:00:00   206.198.5.33   \n",
       "20714 2014-03-02 03:00:00   5.255.253.53   \n",
       "20715 2014-03-02 03:00:00  66.249.76.216   \n",
       "20716 2014-03-02 03:00:00  66.249.76.216   \n",
       "20717 2014-03-02 03:00:00  74.86.158.107   \n",
       "\n",
       "                                             User_Agents Device Model  \\\n",
       "20713                          Mozilla/4.0 (compatible;)         None   \n",
       "20714  Mozilla/5.0 (compatible; YandexBot/3.0; +http:...      Desktop   \n",
       "20715  Mozilla/5.0 (compatible; Googlebot/2.1; +http:...      Desktop   \n",
       "20716  Mozilla/5.0 (iPhone; CPU iPhone OS 6_0 like Ma...   Smartphone   \n",
       "20717  Mozilla/5.0+(compatible; UptimeRobot/2.0; http...      Desktop   \n",
       "\n",
       "      Device Brand   category  \n",
       "20713         None  Is mobile  \n",
       "20714       Spider     Is bot  \n",
       "20715       Spider     Is bot  \n",
       "20716       Spider  Is mobile  \n",
       "20717       Spider     Is bot  "
      ]
     },
     "execution_count": 31,
     "metadata": {},
     "output_type": "execute_result"
    }
   ],
   "source": [
    "wdf3.tail()"
   ]
  },
  {
   "cell_type": "markdown",
   "id": "01d36dd6",
   "metadata": {},
   "source": [
    "#### Device"
   ]
  },
  {
   "cell_type": "code",
   "execution_count": 32,
   "id": "38ffc3cb",
   "metadata": {
    "ExecuteTime": {
     "end_time": "2021-12-16T14:03:10.134783Z",
     "start_time": "2021-12-16T14:03:10.124812Z"
    }
   },
   "outputs": [],
   "source": [
    "cat_df = wdf3.groupby(by='category')['ip_remote_host'].count()"
   ]
  },
  {
   "cell_type": "code",
   "execution_count": 33,
   "id": "5f6f492b",
   "metadata": {
    "ExecuteTime": {
     "end_time": "2021-12-16T14:03:10.892342Z",
     "start_time": "2021-12-16T14:03:10.878352Z"
    }
   },
   "outputs": [
    {
     "data": {
      "text/plain": [
       "category\n",
       "Is bot       14871\n",
       "Is mobile     3313\n",
       "Is pc         2243\n",
       "Is tablet      291\n",
       "Name: ip_remote_host, dtype: int64"
      ]
     },
     "execution_count": 33,
     "metadata": {},
     "output_type": "execute_result"
    }
   ],
   "source": [
    "cat_df.head()"
   ]
  },
  {
   "cell_type": "code",
   "execution_count": 34,
   "id": "8bbbcb11",
   "metadata": {
    "ExecuteTime": {
     "end_time": "2021-12-16T14:03:11.666597Z",
     "start_time": "2021-12-16T14:03:11.644656Z"
    }
   },
   "outputs": [],
   "source": [
    "device_brand_df = wdf3[wdf3['category']== 'Is mobile'].groupby(by='Device Brand')['ip_remote_host'].count()"
   ]
  },
  {
   "cell_type": "code",
   "execution_count": 35,
   "id": "0ff848d3",
   "metadata": {
    "ExecuteTime": {
     "end_time": "2021-12-16T14:03:14.104836Z",
     "start_time": "2021-12-16T14:03:14.084891Z"
    }
   },
   "outputs": [
    {
     "data": {
      "text/plain": [
       "Device Brand\n",
       "Airis                4\n",
       "Alcatel              5\n",
       "Apple              263\n",
       "BlackBerry          16\n",
       "Blusens              2\n",
       "Generic              7\n",
       "Generic_Android      7\n",
       "HTC                 18\n",
       "Huawei              21\n",
       "Jiayu                1\n",
       "LG                  42\n",
       "Motorola             7\n",
       "Nokia                3\n",
       "Samsung            220\n",
       "Sony                44\n",
       "SonyEricsson        42\n",
       "Spider             549\n",
       "Vodafone             3\n",
       "Xianghe              1\n",
       "bq                  14\n",
       "Name: ip_remote_host, dtype: int64"
      ]
     },
     "execution_count": 35,
     "metadata": {},
     "output_type": "execute_result"
    }
   ],
   "source": [
    "device_brand_df"
   ]
  },
  {
   "cell_type": "code",
   "execution_count": 89,
   "id": "2d827384",
   "metadata": {
    "ExecuteTime": {
     "end_time": "2021-12-16T14:40:51.364521Z",
     "start_time": "2021-12-16T14:40:50.903590Z"
    }
   },
   "outputs": [
    {
     "data": {
      "image/png": "[encoded data removed]",
      "text/plain": [
       "<Figure size 1080x1080 with 2 Axes>"
      ]
     },
     "metadata": {},
     "output_type": "display_data"
    }
   ],
   "source": [
    "import pandas as pd\n",
    "import numpy as np\n",
    "from matplotlib import pyplot as plt\n",
    "\n",
    "fig, (ax1, ax2) = plt.subplots(ncols=2, figsize=(15, 15))\n",
    "\n",
    "cat_df.plot(kind='pie', autopct=\"%.1f%%\", textprops={'fontsize': 12}, ax=ax1)\n",
    "device_brand_df.plot(kind='pie', autopct=\"%.1f%%\", textprops={'fontsize': 12}, ax=ax2, labels= None) \n",
    "\n",
    "ax1.set_xlabel('Device', size=25)\n",
    "ax2.set_xlabel('Device Brand', size=25)\n",
    "\n",
    "ax1.set_ylabel(None)\n",
    "ax2.set_ylabel(None)\n",
    "\n",
    "ax1.legend(title=\"Ingredients\", loc=\"center left\", bbox_to_anchor=(1, 0.25, 0.5, 1), )\n",
    "ax2.legend(title=\"Ingredients\",loc=\"center left\", bbox_to_anchor=(1, 0.25, 0.5, 1), labels = device_brand_df.index)\n",
    "\n",
    "ax1.legend()\n",
    "\n",
    "plt.tight_layout()\n",
    "plt.show()"
   ]
  },
  {
   "cell_type": "markdown",
   "id": "6331491c",
   "metadata": {},
   "source": [
    "* According to the above chart and keeping out the BOT relating information. The chart shows that the majority of the server requesters come from mobile devices being Apple and BlackBerry the main brands."
   ]
  },
  {
   "cell_type": "markdown",
   "id": "e2a8a7c6",
   "metadata": {
    "id": "e2a8a7c6"
   },
   "source": [
    "### Exercici 3. A study of the geographic origin, and the timeline."
   ]
  },
  {
   "cell_type": "markdown",
   "id": "0dd2884b",
   "metadata": {
    "id": "3802945b"
   },
   "source": [
    "* In this section I want to study and practice with the time data in Pandas and how to update a DT using external sources\n",
    "  in order to answer 2 Questions:\n",
    "  \n",
    "  - 1- Which time during the day the server gets more requests.\n",
    "  - 2- And from where or better say, from which countries these requests come from.\n",
    "\n",
    "* First, I will create a new DF from the original to work with only the IP and Date. After that, I will plot a geographic map with the information obtained once the necessary information is included."
   ]
  },
  {
   "cell_type": "code",
   "execution_count": 39,
   "id": "00f276af",
   "metadata": {
    "ExecuteTime": {
     "end_time": "2021-12-16T14:05:21.087844Z",
     "start_time": "2021-12-16T14:05:21.068862Z"
    },
    "id": "a637fb4d"
   },
   "outputs": [],
   "source": [
    "gdf = wdf[['Timestamp','ip_remote_host']]"
   ]
  },
  {
   "cell_type": "code",
   "execution_count": 40,
   "id": "616c1f93",
   "metadata": {
    "ExecuteTime": {
     "end_time": "2021-12-16T14:05:21.687904Z",
     "start_time": "2021-12-16T14:05:21.668922Z"
    },
    "id": "63c9172c",
    "outputId": "1469d6a8-96c4-44a4-a77f-f619813ff3a1"
   },
   "outputs": [
    {
     "name": "stdout",
     "output_type": "stream",
     "text": [
      "<class 'pandas.core.frame.DataFrame'>\n",
      "Int64Index: 247981 entries, 22 to 261869\n",
      "Data columns (total 2 columns):\n",
      " #   Column          Non-Null Count   Dtype         \n",
      "---  ------          --------------   -----         \n",
      " 0   Timestamp       247981 non-null  datetime64[ns]\n",
      " 1   ip_remote_host  247981 non-null  object        \n",
      "dtypes: datetime64[ns](1), object(1)\n",
      "memory usage: 5.7+ MB\n"
     ]
    }
   ],
   "source": [
    "gdf.info()"
   ]
  },
  {
   "cell_type": "code",
   "execution_count": 41,
   "id": "e765c85d",
   "metadata": {
    "ExecuteTime": {
     "end_time": "2021-12-16T14:05:22.375714Z",
     "start_time": "2021-12-16T14:05:22.365740Z"
    },
    "id": "72e81945",
    "outputId": "21c5d9cb-5877-419a-dbd2-022c431bba27",
    "scrolled": true
   },
   "outputs": [
    {
     "data": {
      "text/html": [
       "<div>\n",
       "<style scoped>\n",
       "    .dataframe tbody tr th:only-of-type {\n",
       "        vertical-align: middle;\n",
       "    }\n",
       "\n",
       "    .dataframe tbody tr th {\n",
       "        vertical-align: top;\n",
       "    }\n",
       "\n",
       "    .dataframe thead th {\n",
       "        text-align: right;\n",
       "    }\n",
       "</style>\n",
       "<table border=\"1\" class=\"dataframe\">\n",
       "  <thead>\n",
       "    <tr style=\"text-align: right;\">\n",
       "      <th></th>\n",
       "      <th>Timestamp</th>\n",
       "      <th>ip_remote_host</th>\n",
       "    </tr>\n",
       "  </thead>\n",
       "  <tbody>\n",
       "    <tr>\n",
       "      <th>22</th>\n",
       "      <td>2014-02-23 03:10:31</td>\n",
       "      <td>66.249.76.216</td>\n",
       "    </tr>\n",
       "    <tr>\n",
       "      <th>23</th>\n",
       "      <td>2014-02-23 03:10:33</td>\n",
       "      <td>66.249.76.216</td>\n",
       "    </tr>\n",
       "    <tr>\n",
       "      <th>24</th>\n",
       "      <td>2014-02-23 03:10:35</td>\n",
       "      <td>66.249.76.216</td>\n",
       "    </tr>\n",
       "    <tr>\n",
       "      <th>25</th>\n",
       "      <td>2014-02-23 03:10:38</td>\n",
       "      <td>66.249.76.216</td>\n",
       "    </tr>\n",
       "    <tr>\n",
       "      <th>26</th>\n",
       "      <td>2014-02-23 03:10:39</td>\n",
       "      <td>66.249.76.216</td>\n",
       "    </tr>\n",
       "  </tbody>\n",
       "</table>\n",
       "</div>"
      ],
      "text/plain": [
       "             Timestamp ip_remote_host\n",
       "22 2014-02-23 03:10:31  66.249.76.216\n",
       "23 2014-02-23 03:10:33  66.249.76.216\n",
       "24 2014-02-23 03:10:35  66.249.76.216\n",
       "25 2014-02-23 03:10:38  66.249.76.216\n",
       "26 2014-02-23 03:10:39  66.249.76.216"
      ]
     },
     "execution_count": 41,
     "metadata": {},
     "output_type": "execute_result"
    }
   ],
   "source": [
    "gdf.head()"
   ]
  },
  {
   "cell_type": "code",
   "execution_count": 42,
   "id": "732b4b77",
   "metadata": {
    "ExecuteTime": {
     "end_time": "2021-12-16T14:05:24.068408Z",
     "start_time": "2021-12-16T14:05:22.956632Z"
    },
    "id": "52d708f8"
   },
   "outputs": [],
   "source": [
    "# Agruparem per la columna timestamp per fraccions de 15 min i la columne per les ip. Aixi obtidrem un DF amb totes les ip (uniques) per franges de 15 min.\n",
    "gdf = pd.DataFrame(gdf.groupby(by =[pd.Grouper(key='Timestamp', freq='15min'), 'ip_remote_host'])['ip_remote_host'].unique())\n",
    "gdf.rename(columns={'ip_remote_host': 'ip'}, inplace=True)\n",
    "gdf.reset_index(inplace=True)\n",
    "gdf.drop(columns='ip',inplace=True)"
   ]
  },
  {
   "cell_type": "code",
   "execution_count": 43,
   "id": "38325140",
   "metadata": {
    "ExecuteTime": {
     "end_time": "2021-12-16T14:05:24.130295Z",
     "start_time": "2021-12-16T14:05:24.116153Z"
    },
    "id": "87ef0544",
    "outputId": "161e1452-e181-4f0b-cce3-e72cc109297e"
   },
   "outputs": [
    {
     "data": {
      "text/html": [
       "<div>\n",
       "<style scoped>\n",
       "    .dataframe tbody tr th:only-of-type {\n",
       "        vertical-align: middle;\n",
       "    }\n",
       "\n",
       "    .dataframe tbody tr th {\n",
       "        vertical-align: top;\n",
       "    }\n",
       "\n",
       "    .dataframe thead th {\n",
       "        text-align: right;\n",
       "    }\n",
       "</style>\n",
       "<table border=\"1\" class=\"dataframe\">\n",
       "  <thead>\n",
       "    <tr style=\"text-align: right;\">\n",
       "      <th></th>\n",
       "      <th>Timestamp</th>\n",
       "      <th>ip_remote_host</th>\n",
       "    </tr>\n",
       "  </thead>\n",
       "  <tbody>\n",
       "    <tr>\n",
       "      <th>0</th>\n",
       "      <td>2014-02-23 03:00:00</td>\n",
       "      <td>157.55.35.112</td>\n",
       "    </tr>\n",
       "    <tr>\n",
       "      <th>1</th>\n",
       "      <td>2014-02-23 03:00:00</td>\n",
       "      <td>157.56.92.174</td>\n",
       "    </tr>\n",
       "    <tr>\n",
       "      <th>2</th>\n",
       "      <td>2014-02-23 03:00:00</td>\n",
       "      <td>180.76.5.172</td>\n",
       "    </tr>\n",
       "    <tr>\n",
       "      <th>3</th>\n",
       "      <td>2014-02-23 03:00:00</td>\n",
       "      <td>180.76.5.18</td>\n",
       "    </tr>\n",
       "    <tr>\n",
       "      <th>4</th>\n",
       "      <td>2014-02-23 03:00:00</td>\n",
       "      <td>180.76.5.188</td>\n",
       "    </tr>\n",
       "  </tbody>\n",
       "</table>\n",
       "</div>"
      ],
      "text/plain": [
       "            Timestamp ip_remote_host\n",
       "0 2014-02-23 03:00:00  157.55.35.112\n",
       "1 2014-02-23 03:00:00  157.56.92.174\n",
       "2 2014-02-23 03:00:00   180.76.5.172\n",
       "3 2014-02-23 03:00:00    180.76.5.18\n",
       "4 2014-02-23 03:00:00   180.76.5.188"
      ]
     },
     "execution_count": 43,
     "metadata": {},
     "output_type": "execute_result"
    }
   ],
   "source": [
    "gdf.head(5)"
   ]
  },
  {
   "cell_type": "code",
   "execution_count": 44,
   "id": "c8a1043f",
   "metadata": {
    "ExecuteTime": {
     "end_time": "2021-12-16T14:05:24.727564Z",
     "start_time": "2021-12-16T14:05:24.709837Z"
    },
    "id": "d53a88b0",
    "outputId": "18e05e7d-3adb-4b41-8a33-fb7fa0692b48",
    "scrolled": true
   },
   "outputs": [
    {
     "data": {
      "text/plain": [
       "(20017, 2)"
      ]
     },
     "execution_count": 44,
     "metadata": {},
     "output_type": "execute_result"
    }
   ],
   "source": [
    "gdf.shape"
   ]
  },
  {
   "cell_type": "code",
   "execution_count": 45,
   "id": "7d67cb40",
   "metadata": {
    "ExecuteTime": {
     "end_time": "2021-12-16T14:05:25.319952Z",
     "start_time": "2021-12-16T14:05:25.308981Z"
    },
    "id": "512a5dec"
   },
   "outputs": [],
   "source": [
    "gdf_ver1 = gdf.copy()"
   ]
  },
  {
   "cell_type": "markdown",
   "id": "5e9476ca",
   "metadata": {
    "id": "350d3607"
   },
   "source": [
    "Second, I downloaded from www.maxmind.com/ two files GeoIP2 Binary (.mmdb):  \n",
    "GeoLite2-City.mmdb and GeoLite2-Country.mmdb\n",
    "Then, I will use the first one to get all necessary information to geolocalice all IP.\n",
    "https://drive.google.com/file/d/11AdaoUVA5GeCDoJESHQxoTs7Hg3YEarB/view?usp=sharing"
   ]
  },
  {
   "cell_type": "code",
   "execution_count": 46,
   "id": "a992cf91",
   "metadata": {
    "ExecuteTime": {
     "end_time": "2021-12-16T14:05:26.764525Z",
     "start_time": "2021-12-16T14:05:26.716975Z"
    },
    "id": "20a83256"
   },
   "outputs": [],
   "source": [
    "import geoip2.database\n",
    "# Aplicació de la funció per la creació de la columna \"geoloc\" on es guardarà la tupla per cada ip:\n",
    "\n",
    "def req_city(ip, s):\n",
    "    '''Function to request to the database file the information about the geolocation of\n",
    "    the ip. The arguments are the ip and the filesurce. The return will give us a tuple with:\n",
    "    Continent Name, Country ISO code ,Country Name, City Name, latitud, and longitude. '''\n",
    "    try:\n",
    "        response = s.city(ip)\n",
    "        return response.country.iso_code, response.country.name, response.city.name, response.location.latitude, response.location.longitude  \n",
    "    except ValueError:\n",
    "        return pd.np.nan\n",
    "    \n",
    "\n",
    "\n",
    "def fill_geo_data (df, col= ''):\n",
    "    \n",
    "    '''This fuction would open the  GeoLite2-City.mmdb datebase file and  it would be imported all requested geo related\n",
    "    data in a form of a tuple and keep it in a new colum. After that, it would split all the related information in 5 new colums\n",
    "    called : 'Continent Name', 'Alpha-2 code','Country','City','latitud','longitud' .Finally, the origilan column wouldf be deleted\n",
    "    from the DF '''\n",
    "    \n",
    "    import geoip2.database\n",
    "    data = \"./data/GeoLite2-City/GeoLite2-City.mmdb\"\n",
    "    #data = \"https://drive.google.com/file/d/11AdaoUVA5GeCDoJESHQxoTs7Hg3YEarB/view?usp=sharing\"\n",
    "    \n",
    "    with geoip2.database.Reader(data) as reader:\n",
    "        df[col]= pd.DataFrame(df['ip_remote_host'].apply(lambda ip: req_city(ip, reader)))\n",
    "        \n",
    "    # Splitting the tuple and creating a column for each piece of information   \n",
    "    df[['Alpha-2 code','Country','City','latitud','longitud']] = pd.DataFrame(df[col].tolist(), index= df.index)   \n",
    "    #The support column is not necessary anymore so it is deleted.\n",
    "    df.drop(columns=col, inplace=True, axis=1)"
   ]
  },
  {
   "cell_type": "code",
   "execution_count": 47,
   "id": "ac1e2182",
   "metadata": {
    "ExecuteTime": {
     "end_time": "2021-12-16T14:05:39.336091Z",
     "start_time": "2021-12-16T14:05:27.356809Z"
    },
    "id": "31168c72"
   },
   "outputs": [],
   "source": [
    "fill_geo_data (gdf_ver1, 'geoloc')"
   ]
  },
  {
   "cell_type": "code",
   "execution_count": 48,
   "id": "2d4c7dbe",
   "metadata": {
    "ExecuteTime": {
     "end_time": "2021-12-16T14:05:39.399904Z",
     "start_time": "2021-12-16T14:05:39.384916Z"
    },
    "id": "a8a98cc2",
    "outputId": "f7983c86-25ae-42e4-e019-ba8827be4f67"
   },
   "outputs": [
    {
     "data": {
      "text/html": [
       "<div>\n",
       "<style scoped>\n",
       "    .dataframe tbody tr th:only-of-type {\n",
       "        vertical-align: middle;\n",
       "    }\n",
       "\n",
       "    .dataframe tbody tr th {\n",
       "        vertical-align: top;\n",
       "    }\n",
       "\n",
       "    .dataframe thead th {\n",
       "        text-align: right;\n",
       "    }\n",
       "</style>\n",
       "<table border=\"1\" class=\"dataframe\">\n",
       "  <thead>\n",
       "    <tr style=\"text-align: right;\">\n",
       "      <th></th>\n",
       "      <th>Timestamp</th>\n",
       "      <th>ip_remote_host</th>\n",
       "      <th>Alpha-2 code</th>\n",
       "      <th>Country</th>\n",
       "      <th>City</th>\n",
       "      <th>latitud</th>\n",
       "      <th>longitud</th>\n",
       "    </tr>\n",
       "  </thead>\n",
       "  <tbody>\n",
       "    <tr>\n",
       "      <th>0</th>\n",
       "      <td>2014-02-23 03:00:00</td>\n",
       "      <td>157.55.35.112</td>\n",
       "      <td>US</td>\n",
       "      <td>United States</td>\n",
       "      <td>None</td>\n",
       "      <td>37.7510</td>\n",
       "      <td>-97.8220</td>\n",
       "    </tr>\n",
       "    <tr>\n",
       "      <th>1</th>\n",
       "      <td>2014-02-23 03:00:00</td>\n",
       "      <td>157.56.92.174</td>\n",
       "      <td>US</td>\n",
       "      <td>United States</td>\n",
       "      <td>None</td>\n",
       "      <td>47.6034</td>\n",
       "      <td>-122.3414</td>\n",
       "    </tr>\n",
       "  </tbody>\n",
       "</table>\n",
       "</div>"
      ],
      "text/plain": [
       "            Timestamp ip_remote_host Alpha-2 code        Country  City  \\\n",
       "0 2014-02-23 03:00:00  157.55.35.112           US  United States  None   \n",
       "1 2014-02-23 03:00:00  157.56.92.174           US  United States  None   \n",
       "\n",
       "   latitud  longitud  \n",
       "0  37.7510  -97.8220  \n",
       "1  47.6034 -122.3414  "
      ]
     },
     "execution_count": 48,
     "metadata": {},
     "output_type": "execute_result"
    }
   ],
   "source": [
    "gdf_ver1.head(2)"
   ]
  },
  {
   "cell_type": "code",
   "execution_count": 49,
   "id": "7cc9974b",
   "metadata": {
    "ExecuteTime": {
     "end_time": "2021-12-16T14:05:41.476251Z",
     "start_time": "2021-12-16T14:05:40.597937Z"
    },
    "id": "b2c9f055"
   },
   "outputs": [],
   "source": [
    "gdf_ver1.to_csv(r\"./data/gdf1.txt\")"
   ]
  },
  {
   "cell_type": "code",
   "execution_count": 50,
   "id": "f68ff99e",
   "metadata": {
    "ExecuteTime": {
     "end_time": "2021-12-16T14:05:41.539174Z",
     "start_time": "2021-12-16T14:05:41.525213Z"
    },
    "id": "0feb099a",
    "outputId": "4780b5be-82ea-417c-921e-24eae86589be"
   },
   "outputs": [
    {
     "data": {
      "text/html": [
       "<div>\n",
       "<style scoped>\n",
       "    .dataframe tbody tr th:only-of-type {\n",
       "        vertical-align: middle;\n",
       "    }\n",
       "\n",
       "    .dataframe tbody tr th {\n",
       "        vertical-align: top;\n",
       "    }\n",
       "\n",
       "    .dataframe thead th {\n",
       "        text-align: right;\n",
       "    }\n",
       "</style>\n",
       "<table border=\"1\" class=\"dataframe\">\n",
       "  <thead>\n",
       "    <tr style=\"text-align: right;\">\n",
       "      <th></th>\n",
       "      <th>Timestamp</th>\n",
       "      <th>ip_remote_host</th>\n",
       "      <th>Alpha-2 code</th>\n",
       "      <th>Country</th>\n",
       "      <th>City</th>\n",
       "      <th>latitud</th>\n",
       "      <th>longitud</th>\n",
       "    </tr>\n",
       "  </thead>\n",
       "  <tbody>\n",
       "    <tr>\n",
       "      <th>664</th>\n",
       "      <td>2014-02-23 06:15:00</td>\n",
       "      <td>198.36.87.81</td>\n",
       "      <td>None</td>\n",
       "      <td>None</td>\n",
       "      <td>None</td>\n",
       "      <td>47.0</td>\n",
       "      <td>8.0</td>\n",
       "    </tr>\n",
       "    <tr>\n",
       "      <th>1054</th>\n",
       "      <td>2014-02-23 08:15:00</td>\n",
       "      <td>66.249.93.141</td>\n",
       "      <td>None</td>\n",
       "      <td>None</td>\n",
       "      <td>None</td>\n",
       "      <td>47.0</td>\n",
       "      <td>8.0</td>\n",
       "    </tr>\n",
       "    <tr>\n",
       "      <th>1804</th>\n",
       "      <td>2014-02-23 12:00:00</td>\n",
       "      <td>66.249.93.141</td>\n",
       "      <td>None</td>\n",
       "      <td>None</td>\n",
       "      <td>None</td>\n",
       "      <td>47.0</td>\n",
       "      <td>8.0</td>\n",
       "    </tr>\n",
       "    <tr>\n",
       "      <th>4167</th>\n",
       "      <td>2014-02-23 21:30:00</td>\n",
       "      <td>66.249.93.141</td>\n",
       "      <td>None</td>\n",
       "      <td>None</td>\n",
       "      <td>None</td>\n",
       "      <td>47.0</td>\n",
       "      <td>8.0</td>\n",
       "    </tr>\n",
       "    <tr>\n",
       "      <th>4997</th>\n",
       "      <td>2014-02-24 01:45:00</td>\n",
       "      <td>198.36.87.81</td>\n",
       "      <td>None</td>\n",
       "      <td>None</td>\n",
       "      <td>None</td>\n",
       "      <td>47.0</td>\n",
       "      <td>8.0</td>\n",
       "    </tr>\n",
       "  </tbody>\n",
       "</table>\n",
       "</div>"
      ],
      "text/plain": [
       "               Timestamp ip_remote_host Alpha-2 code Country  City  latitud  \\\n",
       "664  2014-02-23 06:15:00   198.36.87.81         None    None  None     47.0   \n",
       "1054 2014-02-23 08:15:00  66.249.93.141         None    None  None     47.0   \n",
       "1804 2014-02-23 12:00:00  66.249.93.141         None    None  None     47.0   \n",
       "4167 2014-02-23 21:30:00  66.249.93.141         None    None  None     47.0   \n",
       "4997 2014-02-24 01:45:00   198.36.87.81         None    None  None     47.0   \n",
       "\n",
       "      longitud  \n",
       "664        8.0  \n",
       "1054       8.0  \n",
       "1804       8.0  \n",
       "4167       8.0  \n",
       "4997       8.0  "
      ]
     },
     "execution_count": 50,
     "metadata": {},
     "output_type": "execute_result"
    }
   ],
   "source": [
    "gdf_ver1[gdf_ver1['Alpha-2 code'].isna()].head()"
   ]
  },
  {
   "cell_type": "code",
   "execution_count": 51,
   "id": "98d4487d",
   "metadata": {
    "ExecuteTime": {
     "end_time": "2021-12-16T14:05:41.776317Z",
     "start_time": "2021-12-16T14:05:41.758366Z"
    },
    "id": "6a9a8e77",
    "outputId": "26a65d83-49cd-4c88-ec10-68849dff81b9",
    "scrolled": true
   },
   "outputs": [
    {
     "name": "stdout",
     "output_type": "stream",
     "text": [
      "<class 'pandas.core.frame.DataFrame'>\n",
      "RangeIndex: 20017 entries, 0 to 20016\n",
      "Data columns (total 7 columns):\n",
      " #   Column          Non-Null Count  Dtype         \n",
      "---  ------          --------------  -----         \n",
      " 0   Timestamp       20017 non-null  datetime64[ns]\n",
      " 1   ip_remote_host  20017 non-null  object        \n",
      " 2   Alpha-2 code    19978 non-null  object        \n",
      " 3   Country         19978 non-null  object        \n",
      " 4   City            8740 non-null   object        \n",
      " 5   latitud         20017 non-null  float64       \n",
      " 6   longitud        20017 non-null  float64       \n",
      "dtypes: datetime64[ns](1), float64(2), object(4)\n",
      "memory usage: 1.1+ MB\n"
     ]
    }
   ],
   "source": [
    "gdf_ver1.info()"
   ]
  },
  {
   "cell_type": "markdown",
   "id": "4adec2ac",
   "metadata": {
    "id": "6c9bb155"
   },
   "source": [
    "* Third. I am going to update the information that has been missing from\n",
    "  the last steps. Looks like the database used is incomplete and it is\n",
    "  necessary to use another source to fill the gaps in the country values\n",
    "  since it is the most important value to create the geo plot. \n",
    "  This time I will use the Api [ipgeotools](https://pypi.org/project/ip2geotools/)"
   ]
  },
  {
   "cell_type": "code",
   "execution_count": 52,
   "id": "f2bb036c",
   "metadata": {
    "ExecuteTime": {
     "end_time": "2021-12-16T14:05:43.703062Z",
     "start_time": "2021-12-16T14:05:43.685112Z"
    },
    "id": "c3f62da1"
   },
   "outputs": [],
   "source": [
    "gdf_ver2 = gdf_ver1.copy()"
   ]
  },
  {
   "cell_type": "code",
   "execution_count": 53,
   "id": "45c71dfd",
   "metadata": {
    "ExecuteTime": {
     "end_time": "2021-12-16T14:05:45.189878Z",
     "start_time": "2021-12-16T14:05:45.173919Z"
    },
    "id": "d50614cc"
   },
   "outputs": [],
   "source": [
    "# gdf_copy1[['Alpha-2 code','Country','City','latitud','longitud']]\n",
    "\n",
    "def ip2geo_country(ip=''):\n",
    "    from ip2geotools.databases.noncommercial import DbIpCity\n",
    "    ''' Get the country name in Iso 2'''\n",
    "    response = DbIpCity.get(ip, api_key='free')\n",
    "    return response.country\n",
    "\n",
    "def ip2geo_city(ip=''):\n",
    "    from ip2geotools.databases.noncommercial import DbIpCity\n",
    "    ''' Get the city name'''\n",
    "    response = DbIpCity.get(ip, api_key='free')\n",
    "    return response.city\n",
    "\n",
    "def ip2geo_latitud(ip=''):\n",
    "    from ip2geotools.databases.noncommercial import DbIpCity\n",
    "    ''' Get the latitud'''\n",
    "    response = DbIpCity.get(ip, api_key='free')\n",
    "    return response.latitude\n",
    "\n",
    "def ip2geo_longitud(ip=''):\n",
    "    from ip2geotools.databases.noncommercial import DbIpCity\n",
    "    ''' Get the longitud'''\n",
    "    response = DbIpCity.get(ip, api_key='free')\n",
    "    return response.longitude\n",
    "\n",
    "def check_badinfo (df, col):\n",
    "    '''This funtion will check for the None values inside a specify column in a DataFrame (Col). Then will create  a list with the index of each row \n",
    "    where the column has a None Value. Finally, the funtion will remplace all incorrecte values to None '''\n",
    "    \n",
    "    index = df[df[col].isnull()].index.tolist()\n",
    "    for x in index: \n",
    "        df.loc[x, ['latitud', 'longitud']] = None\n",
    "    return  print(f\"The number of row with a None value in the column {col} is equal to {len(index)}\")"
   ]
  },
  {
   "cell_type": "code",
   "execution_count": 54,
   "id": "ff8686a0",
   "metadata": {
    "ExecuteTime": {
     "end_time": "2021-12-16T14:05:46.125888Z",
     "start_time": "2021-12-16T14:05:46.077019Z"
    },
    "id": "9c3ddc97",
    "outputId": "4dc8cdab-37e3-4691-e634-1bf95cc5d9f4"
   },
   "outputs": [
    {
     "name": "stdout",
     "output_type": "stream",
     "text": [
      "The number of row with a None value in the column Alpha-2 code is equal to 39\n"
     ]
    }
   ],
   "source": [
    "check_badinfo(gdf_ver2, 'Alpha-2 code')"
   ]
  },
  {
   "cell_type": "code",
   "execution_count": 55,
   "id": "3c450750",
   "metadata": {
    "ExecuteTime": {
     "end_time": "2021-12-16T14:05:47.079838Z",
     "start_time": "2021-12-16T14:05:47.068868Z"
    },
    "id": "83f16b1b"
   },
   "outputs": [],
   "source": [
    "def fillNone (df, col):\n",
    "    '''This function will seak for the None values inside a DataFrame\n",
    "    column. Once a None value would be detected, the function would be\n",
    "    applied for each value in the requested column itself in order to\n",
    "    fill up the data: Country Alpha-2 code, 'City', 'latitude', 'longitude' '''\n",
    "    \n",
    "    df1 = df[df[col].isnull()]['ip_remote_host']\n",
    "    df.loc[df1.index,'City'] = df1.apply(lambda ip: ip2geo_city(ip))\n",
    "    df.loc[df1.index,'latitud'] = df1.apply(lambda ip: ip2geo_latitud(ip))\n",
    "    df.loc[df1.index,'longitud'] = df1.apply(lambda ip: ip2geo_longitud(ip))\n",
    "    df.loc[df1.index,'Alpha-2 code'] = df1.apply(lambda ip: ip2geo_country(ip)) \n"
   ]
  },
  {
   "cell_type": "code",
   "execution_count": 56,
   "id": "11dedeb4",
   "metadata": {
    "ExecuteTime": {
     "end_time": "2021-12-16T14:07:07.101002Z",
     "start_time": "2021-12-16T14:05:48.093473Z"
    },
    "id": "b81b4a1c",
    "outputId": "71059ffb-229f-417b-91f0-5ec12a25b01c"
   },
   "outputs": [
    {
     "name": "stdout",
     "output_type": "stream",
     "text": [
      "Wall time: 1min 18s\n"
     ]
    }
   ],
   "source": [
    "%time fillNone(gdf_ver2, 'Country')"
   ]
  },
  {
   "cell_type": "code",
   "execution_count": 57,
   "id": "b3de16e8",
   "metadata": {
    "ExecuteTime": {
     "end_time": "2021-12-16T14:07:11.473498Z",
     "start_time": "2021-12-16T14:07:11.461543Z"
    },
    "id": "59b8cd64",
    "outputId": "38b3d873-86ef-4ccf-e1d5-e1c2dbc28416",
    "scrolled": true
   },
   "outputs": [
    {
     "data": {
      "text/html": [
       "<div>\n",
       "<style scoped>\n",
       "    .dataframe tbody tr th:only-of-type {\n",
       "        vertical-align: middle;\n",
       "    }\n",
       "\n",
       "    .dataframe tbody tr th {\n",
       "        vertical-align: top;\n",
       "    }\n",
       "\n",
       "    .dataframe thead th {\n",
       "        text-align: right;\n",
       "    }\n",
       "</style>\n",
       "<table border=\"1\" class=\"dataframe\">\n",
       "  <thead>\n",
       "    <tr style=\"text-align: right;\">\n",
       "      <th></th>\n",
       "      <th>Timestamp</th>\n",
       "      <th>ip_remote_host</th>\n",
       "      <th>Alpha-2 code</th>\n",
       "      <th>Country</th>\n",
       "      <th>City</th>\n",
       "      <th>latitud</th>\n",
       "      <th>longitud</th>\n",
       "    </tr>\n",
       "  </thead>\n",
       "  <tbody>\n",
       "    <tr>\n",
       "      <th>664</th>\n",
       "      <td>2014-02-23 06:15:00</td>\n",
       "      <td>198.36.87.81</td>\n",
       "      <td>US</td>\n",
       "      <td>None</td>\n",
       "      <td>Frankfort</td>\n",
       "      <td>38.200905</td>\n",
       "      <td>-84.873284</td>\n",
       "    </tr>\n",
       "    <tr>\n",
       "      <th>1054</th>\n",
       "      <td>2014-02-23 08:15:00</td>\n",
       "      <td>66.249.93.141</td>\n",
       "      <td>US</td>\n",
       "      <td>None</td>\n",
       "      <td>Mountain View</td>\n",
       "      <td>37.389389</td>\n",
       "      <td>-122.083210</td>\n",
       "    </tr>\n",
       "    <tr>\n",
       "      <th>1804</th>\n",
       "      <td>2014-02-23 12:00:00</td>\n",
       "      <td>66.249.93.141</td>\n",
       "      <td>US</td>\n",
       "      <td>None</td>\n",
       "      <td>Mountain View</td>\n",
       "      <td>37.389389</td>\n",
       "      <td>-122.083210</td>\n",
       "    </tr>\n",
       "    <tr>\n",
       "      <th>4167</th>\n",
       "      <td>2014-02-23 21:30:00</td>\n",
       "      <td>66.249.93.141</td>\n",
       "      <td>US</td>\n",
       "      <td>None</td>\n",
       "      <td>Mountain View</td>\n",
       "      <td>37.389389</td>\n",
       "      <td>-122.083210</td>\n",
       "    </tr>\n",
       "    <tr>\n",
       "      <th>4997</th>\n",
       "      <td>2014-02-24 01:45:00</td>\n",
       "      <td>198.36.87.81</td>\n",
       "      <td>US</td>\n",
       "      <td>None</td>\n",
       "      <td>Frankfort</td>\n",
       "      <td>38.200905</td>\n",
       "      <td>-84.873284</td>\n",
       "    </tr>\n",
       "  </tbody>\n",
       "</table>\n",
       "</div>"
      ],
      "text/plain": [
       "               Timestamp ip_remote_host Alpha-2 code Country           City  \\\n",
       "664  2014-02-23 06:15:00   198.36.87.81           US    None      Frankfort   \n",
       "1054 2014-02-23 08:15:00  66.249.93.141           US    None  Mountain View   \n",
       "1804 2014-02-23 12:00:00  66.249.93.141           US    None  Mountain View   \n",
       "4167 2014-02-23 21:30:00  66.249.93.141           US    None  Mountain View   \n",
       "4997 2014-02-24 01:45:00   198.36.87.81           US    None      Frankfort   \n",
       "\n",
       "        latitud    longitud  \n",
       "664   38.200905  -84.873284  \n",
       "1054  37.389389 -122.083210  \n",
       "1804  37.389389 -122.083210  \n",
       "4167  37.389389 -122.083210  \n",
       "4997  38.200905  -84.873284  "
      ]
     },
     "execution_count": 57,
     "metadata": {},
     "output_type": "execute_result"
    }
   ],
   "source": [
    "gdf_ver2[gdf_ver2['Country'].isnull()].head()"
   ]
  },
  {
   "cell_type": "code",
   "execution_count": 58,
   "id": "533e5abf",
   "metadata": {
    "ExecuteTime": {
     "end_time": "2021-12-16T14:07:13.748814Z",
     "start_time": "2021-12-16T14:07:13.732857Z"
    },
    "id": "20c5c614",
    "outputId": "187d60ea-8b27-469e-9a03-a7a9cc923996",
    "scrolled": true
   },
   "outputs": [
    {
     "data": {
      "text/html": [
       "<div>\n",
       "<style scoped>\n",
       "    .dataframe tbody tr th:only-of-type {\n",
       "        vertical-align: middle;\n",
       "    }\n",
       "\n",
       "    .dataframe tbody tr th {\n",
       "        vertical-align: top;\n",
       "    }\n",
       "\n",
       "    .dataframe thead th {\n",
       "        text-align: right;\n",
       "    }\n",
       "</style>\n",
       "<table border=\"1\" class=\"dataframe\">\n",
       "  <thead>\n",
       "    <tr style=\"text-align: right;\">\n",
       "      <th></th>\n",
       "      <th>Timestamp</th>\n",
       "      <th>ip_remote_host</th>\n",
       "      <th>Alpha-2 code</th>\n",
       "      <th>Country</th>\n",
       "      <th>City</th>\n",
       "      <th>latitud</th>\n",
       "      <th>longitud</th>\n",
       "    </tr>\n",
       "  </thead>\n",
       "  <tbody>\n",
       "    <tr>\n",
       "      <th>0</th>\n",
       "      <td>2014-02-23 03:00:00</td>\n",
       "      <td>157.55.35.112</td>\n",
       "      <td>US</td>\n",
       "      <td>United States</td>\n",
       "      <td>None</td>\n",
       "      <td>37.7510</td>\n",
       "      <td>-97.8220</td>\n",
       "    </tr>\n",
       "    <tr>\n",
       "      <th>1</th>\n",
       "      <td>2014-02-23 03:00:00</td>\n",
       "      <td>157.56.92.174</td>\n",
       "      <td>US</td>\n",
       "      <td>United States</td>\n",
       "      <td>None</td>\n",
       "      <td>47.6034</td>\n",
       "      <td>-122.3414</td>\n",
       "    </tr>\n",
       "    <tr>\n",
       "      <th>2</th>\n",
       "      <td>2014-02-23 03:00:00</td>\n",
       "      <td>180.76.5.172</td>\n",
       "      <td>CN</td>\n",
       "      <td>China</td>\n",
       "      <td>None</td>\n",
       "      <td>34.7732</td>\n",
       "      <td>113.7220</td>\n",
       "    </tr>\n",
       "    <tr>\n",
       "      <th>3</th>\n",
       "      <td>2014-02-23 03:00:00</td>\n",
       "      <td>180.76.5.18</td>\n",
       "      <td>CN</td>\n",
       "      <td>China</td>\n",
       "      <td>None</td>\n",
       "      <td>34.7732</td>\n",
       "      <td>113.7220</td>\n",
       "    </tr>\n",
       "    <tr>\n",
       "      <th>4</th>\n",
       "      <td>2014-02-23 03:00:00</td>\n",
       "      <td>180.76.5.188</td>\n",
       "      <td>CN</td>\n",
       "      <td>China</td>\n",
       "      <td>None</td>\n",
       "      <td>34.7732</td>\n",
       "      <td>113.7220</td>\n",
       "    </tr>\n",
       "  </tbody>\n",
       "</table>\n",
       "</div>"
      ],
      "text/plain": [
       "            Timestamp ip_remote_host Alpha-2 code        Country  City  \\\n",
       "0 2014-02-23 03:00:00  157.55.35.112           US  United States  None   \n",
       "1 2014-02-23 03:00:00  157.56.92.174           US  United States  None   \n",
       "2 2014-02-23 03:00:00   180.76.5.172           CN          China  None   \n",
       "3 2014-02-23 03:00:00    180.76.5.18           CN          China  None   \n",
       "4 2014-02-23 03:00:00   180.76.5.188           CN          China  None   \n",
       "\n",
       "   latitud  longitud  \n",
       "0  37.7510  -97.8220  \n",
       "1  47.6034 -122.3414  \n",
       "2  34.7732  113.7220  \n",
       "3  34.7732  113.7220  \n",
       "4  34.7732  113.7220  "
      ]
     },
     "execution_count": 58,
     "metadata": {},
     "output_type": "execute_result"
    }
   ],
   "source": [
    "gdf_ver2.head()"
   ]
  },
  {
   "cell_type": "code",
   "execution_count": 59,
   "id": "08b7fe08",
   "metadata": {
    "ExecuteTime": {
     "end_time": "2021-12-16T14:07:14.870925Z",
     "start_time": "2021-12-16T14:07:14.852931Z"
    },
    "id": "a85ead52",
    "outputId": "ff1ed71c-68f1-493a-a185-a7e5b8a0f487"
   },
   "outputs": [
    {
     "name": "stdout",
     "output_type": "stream",
     "text": [
      "<class 'pandas.core.frame.DataFrame'>\n",
      "RangeIndex: 20017 entries, 0 to 20016\n",
      "Data columns (total 7 columns):\n",
      " #   Column          Non-Null Count  Dtype         \n",
      "---  ------          --------------  -----         \n",
      " 0   Timestamp       20017 non-null  datetime64[ns]\n",
      " 1   ip_remote_host  20017 non-null  object        \n",
      " 2   Alpha-2 code    20017 non-null  object        \n",
      " 3   Country         19978 non-null  object        \n",
      " 4   City            8779 non-null   object        \n",
      " 5   latitud         20017 non-null  float64       \n",
      " 6   longitud        20017 non-null  float64       \n",
      "dtypes: datetime64[ns](1), float64(2), object(4)\n",
      "memory usage: 1.1+ MB\n"
     ]
    }
   ],
   "source": [
    "gdf_ver2.info()"
   ]
  },
  {
   "cell_type": "markdown",
   "id": "e28d253a",
   "metadata": {
    "id": "580178f4"
   },
   "source": [
    "* We can see that the column Alpha-2 code is complete with all of the 20017 lines of countries codes. On the other hand, the column of the country shows some discrepancies. In that case it is better to drop the whole column sice the next step will provide a more reliable information.\n",
    "Finally, I going to keep the city column as it is because I have no intention to use it and because it would take a lot of time to update the missing information online."
   ]
  },
  {
   "cell_type": "code",
   "execution_count": 60,
   "id": "dfa2799f",
   "metadata": {
    "ExecuteTime": {
     "end_time": "2021-12-16T14:07:16.597912Z",
     "start_time": "2021-12-16T14:07:16.588936Z"
    }
   },
   "outputs": [],
   "source": [
    "gdf_ver2.drop(columns='Country', inplace=True)"
   ]
  },
  {
   "cell_type": "markdown",
   "id": "1ba6bcb7",
   "metadata": {},
   "source": [
    "* Now is the time to complete the main DF using other sources to update the values of the country in ISO 3 and the continent and its respective columns. For doing this, the function Merge is a perfect choice."
   ]
  },
  {
   "cell_type": "code",
   "execution_count": 61,
   "id": "9fe5b262",
   "metadata": {
    "ExecuteTime": {
     "end_time": "2021-12-16T14:07:18.085914Z",
     "start_time": "2021-12-16T14:07:18.075940Z"
    },
    "id": "efba63e1"
   },
   "outputs": [],
   "source": [
    "gdf_ver3 = gdf_ver2.copy()"
   ]
  },
  {
   "cell_type": "code",
   "execution_count": 62,
   "id": "46ae3f96",
   "metadata": {
    "ExecuteTime": {
     "end_time": "2021-12-16T14:07:19.031357Z",
     "start_time": "2021-12-16T14:07:18.596671Z"
    },
    "id": "0a0e8008",
    "outputId": "09293387-cd22-4d23-fed5-992fe4037440"
   },
   "outputs": [
    {
     "data": {
      "text/html": [
       "<div>\n",
       "<style scoped>\n",
       "    .dataframe tbody tr th:only-of-type {\n",
       "        vertical-align: middle;\n",
       "    }\n",
       "\n",
       "    .dataframe tbody tr th {\n",
       "        vertical-align: top;\n",
       "    }\n",
       "\n",
       "    .dataframe thead th {\n",
       "        text-align: right;\n",
       "    }\n",
       "</style>\n",
       "<table border=\"1\" class=\"dataframe\">\n",
       "  <thead>\n",
       "    <tr style=\"text-align: right;\">\n",
       "      <th></th>\n",
       "      <th>Country</th>\n",
       "      <th>Alpha-2 code</th>\n",
       "      <th>Alpha-3 code</th>\n",
       "      <th>continent code</th>\n",
       "      <th>continent name</th>\n",
       "    </tr>\n",
       "  </thead>\n",
       "  <tbody>\n",
       "    <tr>\n",
       "      <th>0</th>\n",
       "      <td>Andorra</td>\n",
       "      <td>AD</td>\n",
       "      <td>AND</td>\n",
       "      <td>EU</td>\n",
       "      <td>Europe</td>\n",
       "    </tr>\n",
       "    <tr>\n",
       "      <th>1</th>\n",
       "      <td>United Arab Emirates</td>\n",
       "      <td>AE</td>\n",
       "      <td>ARE</td>\n",
       "      <td>AS</td>\n",
       "      <td>Asia</td>\n",
       "    </tr>\n",
       "    <tr>\n",
       "      <th>2</th>\n",
       "      <td>Afghanistan</td>\n",
       "      <td>AF</td>\n",
       "      <td>AFG</td>\n",
       "      <td>AS</td>\n",
       "      <td>Asia</td>\n",
       "    </tr>\n",
       "    <tr>\n",
       "      <th>3</th>\n",
       "      <td>Antigua and Barbuda</td>\n",
       "      <td>AG</td>\n",
       "      <td>ATG</td>\n",
       "      <td>NA</td>\n",
       "      <td>North America</td>\n",
       "    </tr>\n",
       "    <tr>\n",
       "      <th>4</th>\n",
       "      <td>Anguilla</td>\n",
       "      <td>AI</td>\n",
       "      <td>AIA</td>\n",
       "      <td>NA</td>\n",
       "      <td>North America</td>\n",
       "    </tr>\n",
       "  </tbody>\n",
       "</table>\n",
       "</div>"
      ],
      "text/plain": [
       "                Country Alpha-2 code Alpha-3 code continent code  \\\n",
       "0               Andorra           AD          AND             EU   \n",
       "1  United Arab Emirates           AE          ARE             AS   \n",
       "2           Afghanistan           AF          AFG             AS   \n",
       "3   Antigua and Barbuda           AG          ATG             NA   \n",
       "4              Anguilla           AI          AIA             NA   \n",
       "\n",
       "  continent name  \n",
       "0         Europe  \n",
       "1           Asia  \n",
       "2           Asia  \n",
       "3  North America  \n",
       "4  North America  "
      ]
     },
     "execution_count": 62,
     "metadata": {},
     "output_type": "execute_result"
    }
   ],
   "source": [
    "url1= r\"./data/Country ISO2 ISO3 continent.csv\"\n",
    "#Colab access\n",
    "url2= r\"/content/drive/MyDrive/ITAcademy DS/DS Python Projects/05. Sprint 5. Altres mòduls bàsics de Python/data/Country ISO2 ISO3 continent.csv\"\n",
    "# keep_default_na = False -> becouse the Continent sort name NA as North America could be misread as Not A Value 'NaN'\n",
    "country_Iso3=pd.read_csv(url1, keep_default_na = False)\n",
    "country_Iso3.head()"
   ]
  },
  {
   "cell_type": "markdown",
   "id": "89b95d98",
   "metadata": {},
   "source": [
    "* A continuació genero un nou DF producte de la fusió de dos DF on les columnes 'Alpha-2 code' dels respectius DF seran els nexes d'unió.\n",
    "fent servir aquest pas i un sencill fitxer, puc importar en noves columnes:\n",
    "Pais en ISO3, Nom del Pais, continent inicials i  els nom del contient."
   ]
  },
  {
   "cell_type": "code",
   "execution_count": 63,
   "id": "a00cc59f",
   "metadata": {
    "ExecuteTime": {
     "end_time": "2021-12-16T14:07:20.175712Z",
     "start_time": "2021-12-16T14:07:20.140773Z"
    },
    "id": "497926c1",
    "outputId": "ce0cc990-1504-42de-f55e-8c1ed64424de"
   },
   "outputs": [
    {
     "data": {
      "text/html": [
       "<div>\n",
       "<style scoped>\n",
       "    .dataframe tbody tr th:only-of-type {\n",
       "        vertical-align: middle;\n",
       "    }\n",
       "\n",
       "    .dataframe tbody tr th {\n",
       "        vertical-align: top;\n",
       "    }\n",
       "\n",
       "    .dataframe thead th {\n",
       "        text-align: right;\n",
       "    }\n",
       "</style>\n",
       "<table border=\"1\" class=\"dataframe\">\n",
       "  <thead>\n",
       "    <tr style=\"text-align: right;\">\n",
       "      <th></th>\n",
       "      <th>Timestamp</th>\n",
       "      <th>ip_remote_host</th>\n",
       "      <th>Alpha-2 code</th>\n",
       "      <th>City</th>\n",
       "      <th>latitud</th>\n",
       "      <th>longitud</th>\n",
       "      <th>Country</th>\n",
       "      <th>Alpha-3 code</th>\n",
       "      <th>continent code</th>\n",
       "      <th>continent name</th>\n",
       "    </tr>\n",
       "  </thead>\n",
       "  <tbody>\n",
       "    <tr>\n",
       "      <th>0</th>\n",
       "      <td>2014-02-23 03:00:00</td>\n",
       "      <td>157.55.35.112</td>\n",
       "      <td>US</td>\n",
       "      <td>None</td>\n",
       "      <td>37.7510</td>\n",
       "      <td>-97.8220</td>\n",
       "      <td>United States</td>\n",
       "      <td>USA</td>\n",
       "      <td>NA</td>\n",
       "      <td>North America</td>\n",
       "    </tr>\n",
       "    <tr>\n",
       "      <th>1</th>\n",
       "      <td>2014-02-23 03:00:00</td>\n",
       "      <td>157.56.92.174</td>\n",
       "      <td>US</td>\n",
       "      <td>None</td>\n",
       "      <td>47.6034</td>\n",
       "      <td>-122.3414</td>\n",
       "      <td>United States</td>\n",
       "      <td>USA</td>\n",
       "      <td>NA</td>\n",
       "      <td>North America</td>\n",
       "    </tr>\n",
       "    <tr>\n",
       "      <th>2</th>\n",
       "      <td>2014-02-23 03:00:00</td>\n",
       "      <td>180.76.5.172</td>\n",
       "      <td>CN</td>\n",
       "      <td>None</td>\n",
       "      <td>34.7732</td>\n",
       "      <td>113.7220</td>\n",
       "      <td>China</td>\n",
       "      <td>CHN</td>\n",
       "      <td>AS</td>\n",
       "      <td>Asia</td>\n",
       "    </tr>\n",
       "    <tr>\n",
       "      <th>3</th>\n",
       "      <td>2014-02-23 03:00:00</td>\n",
       "      <td>180.76.5.18</td>\n",
       "      <td>CN</td>\n",
       "      <td>None</td>\n",
       "      <td>34.7732</td>\n",
       "      <td>113.7220</td>\n",
       "      <td>China</td>\n",
       "      <td>CHN</td>\n",
       "      <td>AS</td>\n",
       "      <td>Asia</td>\n",
       "    </tr>\n",
       "    <tr>\n",
       "      <th>4</th>\n",
       "      <td>2014-02-23 03:00:00</td>\n",
       "      <td>180.76.5.188</td>\n",
       "      <td>CN</td>\n",
       "      <td>None</td>\n",
       "      <td>34.7732</td>\n",
       "      <td>113.7220</td>\n",
       "      <td>China</td>\n",
       "      <td>CHN</td>\n",
       "      <td>AS</td>\n",
       "      <td>Asia</td>\n",
       "    </tr>\n",
       "  </tbody>\n",
       "</table>\n",
       "</div>"
      ],
      "text/plain": [
       "            Timestamp ip_remote_host Alpha-2 code  City  latitud  longitud  \\\n",
       "0 2014-02-23 03:00:00  157.55.35.112           US  None  37.7510  -97.8220   \n",
       "1 2014-02-23 03:00:00  157.56.92.174           US  None  47.6034 -122.3414   \n",
       "2 2014-02-23 03:00:00   180.76.5.172           CN  None  34.7732  113.7220   \n",
       "3 2014-02-23 03:00:00    180.76.5.18           CN  None  34.7732  113.7220   \n",
       "4 2014-02-23 03:00:00   180.76.5.188           CN  None  34.7732  113.7220   \n",
       "\n",
       "         Country Alpha-3 code continent code continent name  \n",
       "0  United States          USA             NA  North America  \n",
       "1  United States          USA             NA  North America  \n",
       "2          China          CHN             AS           Asia  \n",
       "3          China          CHN             AS           Asia  \n",
       "4          China          CHN             AS           Asia  "
      ]
     },
     "execution_count": 63,
     "metadata": {},
     "output_type": "execute_result"
    }
   ],
   "source": [
    "geodf = pd.merge(gdf_ver3, country_Iso3, on ='Alpha-2 code', how='left')\n",
    "geodf.head()"
   ]
  },
  {
   "cell_type": "code",
   "execution_count": 64,
   "id": "35e571a2",
   "metadata": {
    "ExecuteTime": {
     "end_time": "2021-12-16T14:07:20.776080Z",
     "start_time": "2021-12-16T14:07:20.765137Z"
    },
    "id": "2c5c21d1",
    "outputId": "f052e5b5-8592-46bc-ed9a-d495cdd0ec64"
   },
   "outputs": [
    {
     "data": {
      "text/plain": [
       "(20017, 10)"
      ]
     },
     "execution_count": 64,
     "metadata": {},
     "output_type": "execute_result"
    }
   ],
   "source": [
    "geodf.shape"
   ]
  },
  {
   "cell_type": "code",
   "execution_count": 65,
   "id": "dd4213cc",
   "metadata": {
    "ExecuteTime": {
     "end_time": "2021-12-16T14:07:21.488070Z",
     "start_time": "2021-12-16T14:07:21.461137Z"
    },
    "id": "e0bcfc86",
    "outputId": "134e6530-2fd8-4b0f-d6d6-dd2e9c8cd370"
   },
   "outputs": [
    {
     "name": "stdout",
     "output_type": "stream",
     "text": [
      "<class 'pandas.core.frame.DataFrame'>\n",
      "Int64Index: 20017 entries, 0 to 20016\n",
      "Data columns (total 10 columns):\n",
      " #   Column          Non-Null Count  Dtype         \n",
      "---  ------          --------------  -----         \n",
      " 0   Timestamp       20017 non-null  datetime64[ns]\n",
      " 1   ip_remote_host  20017 non-null  object        \n",
      " 2   Alpha-2 code    20017 non-null  object        \n",
      " 3   City            8779 non-null   object        \n",
      " 4   latitud         20017 non-null  float64       \n",
      " 5   longitud        20017 non-null  float64       \n",
      " 6   Country         20017 non-null  object        \n",
      " 7   Alpha-3 code    20017 non-null  object        \n",
      " 8   continent code  20017 non-null  object        \n",
      " 9   continent name  20017 non-null  object        \n",
      "dtypes: datetime64[ns](1), float64(2), object(7)\n",
      "memory usage: 1.7+ MB\n"
     ]
    }
   ],
   "source": [
    "geodf.info()"
   ]
  },
  {
   "cell_type": "code",
   "execution_count": 66,
   "id": "cb7fcc9e",
   "metadata": {
    "ExecuteTime": {
     "end_time": "2021-12-16T14:07:22.826876Z",
     "start_time": "2021-12-16T14:07:22.076937Z"
    },
    "id": "16a1db86"
   },
   "outputs": [],
   "source": [
    "geodf.to_csv(r\"./data/geodf.txt\")"
   ]
  },
  {
   "cell_type": "code",
   "execution_count": null,
   "id": "e620fef0",
   "metadata": {},
   "outputs": [],
   "source": []
  },
  {
   "cell_type": "markdown",
   "id": "3dbbbbe8",
   "metadata": {
    "id": "3dbbbbe8"
   },
   "source": [
    "#### Time Series Data Visualization\n",
    "* Below I am going to reshape the geodf data frame to ploy a temporal series of the total number of connections in blocks of 15 minutes. I will also, split the data into all the different continents. Hence it is important to have into account that there is a different time zone between each continent."
   ]
  },
  {
   "cell_type": "code",
   "execution_count": 67,
   "id": "01ffc873",
   "metadata": {
    "ExecuteTime": {
     "end_time": "2021-12-16T14:07:23.880217Z",
     "start_time": "2021-12-16T14:07:23.852261Z"
    },
    "id": "01ffc873"
   },
   "outputs": [],
   "source": [
    "# Groupby with blocks of 15' Time and continents, with a final total count of the number of IP or number of connections.\n",
    "geodf1 = pd.DataFrame(geodf.groupby(by =[pd.Grouper(key='Timestamp', freq='15min'),'continent name'])['ip_remote_host'].count()) \n",
    "geodf1.reset_index(inplace=True)"
   ]
  },
  {
   "cell_type": "code",
   "execution_count": 68,
   "id": "4e62a64e",
   "metadata": {
    "ExecuteTime": {
     "end_time": "2021-12-16T14:07:24.443418Z",
     "start_time": "2021-12-16T14:07:24.413469Z"
    },
    "id": "4e62a64e"
   },
   "outputs": [],
   "source": [
    "geodf1.to_csv(r\"./data/geodf1.txt\")"
   ]
  },
  {
   "cell_type": "code",
   "execution_count": 69,
   "id": "9baa9d9a",
   "metadata": {
    "ExecuteTime": {
     "end_time": "2021-12-16T14:07:25.546520Z",
     "start_time": "2021-12-16T14:07:25.524579Z"
    },
    "id": "9baa9d9a",
    "outputId": "47ecf963-35e0-46c9-86ba-d5b53dd768e0"
   },
   "outputs": [
    {
     "data": {
      "text/html": [
       "<div>\n",
       "<style scoped>\n",
       "    .dataframe tbody tr th:only-of-type {\n",
       "        vertical-align: middle;\n",
       "    }\n",
       "\n",
       "    .dataframe tbody tr th {\n",
       "        vertical-align: top;\n",
       "    }\n",
       "\n",
       "    .dataframe thead th {\n",
       "        text-align: right;\n",
       "    }\n",
       "</style>\n",
       "<table border=\"1\" class=\"dataframe\">\n",
       "  <thead>\n",
       "    <tr style=\"text-align: right;\">\n",
       "      <th></th>\n",
       "      <th>Timestamp</th>\n",
       "      <th>continent name</th>\n",
       "      <th>ip_remote_host</th>\n",
       "    </tr>\n",
       "  </thead>\n",
       "  <tbody>\n",
       "    <tr>\n",
       "      <th>0</th>\n",
       "      <td>2014-02-23 03:00:00</td>\n",
       "      <td>Asia</td>\n",
       "      <td>9</td>\n",
       "    </tr>\n",
       "    <tr>\n",
       "      <th>1</th>\n",
       "      <td>2014-02-23 03:00:00</td>\n",
       "      <td>Europe</td>\n",
       "      <td>6</td>\n",
       "    </tr>\n",
       "    <tr>\n",
       "      <th>2</th>\n",
       "      <td>2014-02-23 03:00:00</td>\n",
       "      <td>North America</td>\n",
       "      <td>4</td>\n",
       "    </tr>\n",
       "    <tr>\n",
       "      <th>3</th>\n",
       "      <td>2014-02-23 03:15:00</td>\n",
       "      <td>Asia</td>\n",
       "      <td>28</td>\n",
       "    </tr>\n",
       "    <tr>\n",
       "      <th>4</th>\n",
       "      <td>2014-02-23 03:15:00</td>\n",
       "      <td>Europe</td>\n",
       "      <td>9</td>\n",
       "    </tr>\n",
       "  </tbody>\n",
       "</table>\n",
       "</div>"
      ],
      "text/plain": [
       "            Timestamp continent name  ip_remote_host\n",
       "0 2014-02-23 03:00:00           Asia               9\n",
       "1 2014-02-23 03:00:00         Europe               6\n",
       "2 2014-02-23 03:00:00  North America               4\n",
       "3 2014-02-23 03:15:00           Asia              28\n",
       "4 2014-02-23 03:15:00         Europe               9"
      ]
     },
     "execution_count": 69,
     "metadata": {},
     "output_type": "execute_result"
    }
   ],
   "source": [
    "geodf1.head(5)"
   ]
  },
  {
   "cell_type": "code",
   "execution_count": 70,
   "id": "f9f69954",
   "metadata": {
    "ExecuteTime": {
     "end_time": "2021-12-16T14:07:26.051818Z",
     "start_time": "2021-12-16T14:07:26.044838Z"
    },
    "id": "f9f69954",
    "outputId": "0bffe0b9-920d-4c4e-a37d-f9a11ca34412"
   },
   "outputs": [
    {
     "data": {
      "text/plain": [
       "(2063, 3)"
      ]
     },
     "execution_count": 70,
     "metadata": {},
     "output_type": "execute_result"
    }
   ],
   "source": [
    "geodf1.shape"
   ]
  },
  {
   "cell_type": "code",
   "execution_count": 71,
   "id": "44e49b50",
   "metadata": {
    "ExecuteTime": {
     "end_time": "2021-12-16T14:07:27.031514Z",
     "start_time": "2021-12-16T14:07:26.692610Z"
    },
    "id": "44e49b50",
    "outputId": "7676cd34-ff64-4dda-9d85-5d320d51b78f"
   },
   "outputs": [
    {
     "data": {
      "image/png": "[encoded data removed]",
      "text/plain": [
       "<Figure size 1368x576 with 1 Axes>"
      ]
     },
     "metadata": {},
     "output_type": "display_data"
    }
   ],
   "source": [
    "from datetime import datetime as dt\n",
    "from matplotlib import pyplot as plt, dates as mdates\n",
    "\n",
    "sns.set_theme(style=\"darkgrid\")\n",
    "#plt.figure(figsize=(18,6))\n",
    "fig, ax = plt.subplots(figsize=(19,8))\n",
    "sns.lineplot(x='Timestamp', y=\"ip_remote_host\", data=geodf1, hue='continent name')\n",
    "plt.xticks(rotation=60,)\n",
    "xfmt = mdates.DateFormatter('%d-%m-%y %H:%M')\n",
    "ax.xaxis.set_major_formatter(xfmt)\n",
    "plt.show()"
   ]
  },
  {
   "cell_type": "markdown",
   "id": "7a4b4ffa",
   "metadata": {},
   "source": [
    "* As it is possible to see above, the main geographical zones where our server has more requests are Asia, Europe, and North America.\n",
    "* Assuming that the time is the official  Greenwich time, it is possible to see how that the traffic peaks are not overlapping and looks like that the afternoon and evening are the most demanding time during the day.\n"
   ]
  },
  {
   "cell_type": "markdown",
   "id": "9b012b1b",
   "metadata": {
    "id": "9b012b1b"
   },
   "source": [
    "#### Geographic chart of the number of requests to the server by country.\n",
    "* With a groupby method, I will create a DF to arrange the geolocalization of the IP and the total count needed to crate a since scatter geo plot with Plotly."
   ]
  },
  {
   "cell_type": "code",
   "execution_count": 72,
   "id": "bf3f6c18",
   "metadata": {
    "ExecuteTime": {
     "end_time": "2021-12-16T14:07:28.663640Z",
     "start_time": "2021-12-16T14:07:28.636711Z"
    }
   },
   "outputs": [],
   "source": [
    "geodf2 = pd.DataFrame(geodf[['ip_remote_host','Alpha-3 code','Country','continent name']].groupby(by =['Alpha-3 code','Country','continent name'])['ip_remote_host'].count()) \n",
    "geodf2.reset_index(inplace=True)"
   ]
  },
  {
   "cell_type": "code",
   "execution_count": 73,
   "id": "4307b67e",
   "metadata": {
    "ExecuteTime": {
     "end_time": "2021-12-16T14:07:29.122501Z",
     "start_time": "2021-12-16T14:07:29.100526Z"
    }
   },
   "outputs": [
    {
     "data": {
      "text/html": [
       "<div>\n",
       "<style scoped>\n",
       "    .dataframe tbody tr th:only-of-type {\n",
       "        vertical-align: middle;\n",
       "    }\n",
       "\n",
       "    .dataframe tbody tr th {\n",
       "        vertical-align: top;\n",
       "    }\n",
       "\n",
       "    .dataframe thead th {\n",
       "        text-align: right;\n",
       "    }\n",
       "</style>\n",
       "<table border=\"1\" class=\"dataframe\">\n",
       "  <thead>\n",
       "    <tr style=\"text-align: right;\">\n",
       "      <th></th>\n",
       "      <th>Alpha-3 code</th>\n",
       "      <th>Country</th>\n",
       "      <th>continent name</th>\n",
       "      <th>ip_remote_host</th>\n",
       "    </tr>\n",
       "  </thead>\n",
       "  <tbody>\n",
       "    <tr>\n",
       "      <th>0</th>\n",
       "      <td>AND</td>\n",
       "      <td>Andorra</td>\n",
       "      <td>Europe</td>\n",
       "      <td>4</td>\n",
       "    </tr>\n",
       "    <tr>\n",
       "      <th>1</th>\n",
       "      <td>ARE</td>\n",
       "      <td>United Arab Emirates</td>\n",
       "      <td>Asia</td>\n",
       "      <td>2</td>\n",
       "    </tr>\n",
       "    <tr>\n",
       "      <th>2</th>\n",
       "      <td>ARG</td>\n",
       "      <td>Argentina</td>\n",
       "      <td>South America</td>\n",
       "      <td>29</td>\n",
       "    </tr>\n",
       "    <tr>\n",
       "      <th>3</th>\n",
       "      <td>AUS</td>\n",
       "      <td>Australia</td>\n",
       "      <td>Oceania</td>\n",
       "      <td>3</td>\n",
       "    </tr>\n",
       "    <tr>\n",
       "      <th>4</th>\n",
       "      <td>AUT</td>\n",
       "      <td>Austria</td>\n",
       "      <td>Europe</td>\n",
       "      <td>8</td>\n",
       "    </tr>\n",
       "  </tbody>\n",
       "</table>\n",
       "</div>"
      ],
      "text/plain": [
       "  Alpha-3 code               Country continent name  ip_remote_host\n",
       "0          AND               Andorra         Europe               4\n",
       "1          ARE  United Arab Emirates           Asia               2\n",
       "2          ARG             Argentina  South America              29\n",
       "3          AUS             Australia        Oceania               3\n",
       "4          AUT               Austria         Europe               8"
      ]
     },
     "execution_count": 73,
     "metadata": {},
     "output_type": "execute_result"
    }
   ],
   "source": [
    "geodf2.head()"
   ]
  },
  {
   "cell_type": "code",
   "execution_count": 74,
   "id": "f2b97435",
   "metadata": {
    "ExecuteTime": {
     "end_time": "2021-12-16T14:07:29.716881Z",
     "start_time": "2021-12-16T14:07:29.700925Z"
    }
   },
   "outputs": [
    {
     "data": {
      "text/plain": [
       "(64, 4)"
      ]
     },
     "execution_count": 74,
     "metadata": {},
     "output_type": "execute_result"
    }
   ],
   "source": [
    "geodf2.shape"
   ]
  },
  {
   "cell_type": "code",
   "execution_count": 81,
   "id": "7b9d0a94",
   "metadata": {
    "ExecuteTime": {
     "end_time": "2021-12-16T14:26:18.463039Z",
     "start_time": "2021-12-16T14:26:18.308707Z"
    },
    "id": "7b9d0a94",
    "outputId": "1ca5e2bf-5e11-4178-c68e-6583685bf094"
   },
   "outputs": [
    {
     "data": {
      "application/vnd.plotly.v1+json": {
       "config": {
        "plotlyServerURL": "https://plot.ly"
       },
       "data": [
        {
         "geo": "geo",
         "hovertemplate": "<b>%{hovertext}</b><br><br>continent name=Europe<br>ip_remote_host=%{marker.size}<br>Alpha-3 code=%{location}<extra></extra>",
         "hovertext": [
          "Andorra",
          "Austria",
          "Belgium",
          "Switzerland",
          "Czech Republic",
          "Germany",
          "Denmark",
          "Spain",
          "France",
          "United Kingdom",
          "Greece",
          "Ireland",
          "Italy",
          "Macedonia",
          "Netherlands",
          "Norway",
          "Poland",
          "Portugal",
          "Romania",
          "Russian Federation",
          "Ukraine"
         ],
         "legendgroup": "Europe",
         "locations": [
          "AND",
          "AUT",
          "BEL",
          "CHE",
          "CZE",
          "DEU",
          "DNK",
          "ESP",
          "FRA",
          "GBR",
          "GRC",
          "IRL",
          "ITA",
          "MKD",
          "NLD",
          "NOR",
          "POL",
          "PRT",
          "ROU",
          "RUS",
          "UKR"
         ],
         "marker": {
          "color": "#636efa",
          "size": [
           4,
           8,
           33,
           5,
           1,
           182,
           4,
           2993,
           859,
           37,
           5,
           33,
           23,
           1,
           3609,
           3,
           1,
           11,
           5,
           289,
           42
          ],
          "sizemode": "area",
          "sizeref": 1.467455621301775,
          "symbol": "circle"
         },
         "mode": "markers",
         "name": "Europe",
         "showlegend": true,
         "type": "scattergeo"
        },
        {
         "geo": "geo",
         "hovertemplate": "<b>%{hovertext}</b><br><br>continent name=Asia<br>ip_remote_host=%{marker.size}<br>Alpha-3 code=%{location}<extra></extra>",
         "hovertext": [
          "United Arab Emirates",
          "China",
          "Cyprus",
          "Hong Kong",
          "Indonesia",
          "Iran",
          "Israel",
          "Japan",
          "South Korea",
          "Mongolia",
          "Philippines",
          "Qatar",
          "Singapore",
          "Thailand",
          "Taiwan",
          "Vietnam"
         ],
         "legendgroup": "Asia",
         "locations": [
          "ARE",
          "CHN",
          "CYP",
          "HKG",
          "IDN",
          "IRN",
          "ISR",
          "JPN",
          "KOR",
          "MNG",
          "PHL",
          "QAT",
          "SGP",
          "THA",
          "TWN",
          "VNM"
         ],
         "marker": {
          "color": "#EF553B",
          "size": [
           2,
           6200,
           2,
           49,
           1,
           2,
           2,
           81,
           2,
           3,
           1,
           1,
           2,
           2,
           6,
           1
          ],
          "sizemode": "area",
          "sizeref": 1.467455621301775,
          "symbol": "circle"
         },
         "mode": "markers",
         "name": "Asia",
         "showlegend": true,
         "type": "scattergeo"
        },
        {
         "geo": "geo",
         "hovertemplate": "<b>%{hovertext}</b><br><br>continent name=South America<br>ip_remote_host=%{marker.size}<br>Alpha-3 code=%{location}<extra></extra>",
         "hovertext": [
          "Argentina",
          "Bonaire",
          "Bolivia",
          "Brazil",
          "Chile",
          "Colombia",
          "Curacao\n",
          "Ecuador",
          "Peru",
          "Uruguay",
          "Venezuela"
         ],
         "legendgroup": "South America",
         "locations": [
          "ARG",
          "BES",
          "BOL",
          "BRA",
          "CHL",
          "COL",
          "CUW",
          "ECU",
          "PER",
          "URY",
          "VEN"
         ],
         "marker": {
          "color": "#00cc96",
          "size": [
           29,
           1,
           3,
           47,
           10,
           15,
           1,
           7,
           5,
           7,
           6
          ],
          "sizemode": "area",
          "sizeref": 1.467455621301775,
          "symbol": "circle"
         },
         "mode": "markers",
         "name": "South America",
         "showlegend": true,
         "type": "scattergeo"
        },
        {
         "geo": "geo",
         "hovertemplate": "<b>%{hovertext}</b><br><br>continent name=Oceania<br>ip_remote_host=%{marker.size}<br>Alpha-3 code=%{location}<extra></extra>",
         "hovertext": [
          "Australia"
         ],
         "legendgroup": "Oceania",
         "locations": [
          "AUS"
         ],
         "marker": {
          "color": "#ab63fa",
          "size": [
           3
          ],
          "sizemode": "area",
          "sizeref": 1.467455621301775,
          "symbol": "circle"
         },
         "mode": "markers",
         "name": "Oceania",
         "showlegend": true,
         "type": "scattergeo"
        },
        {
         "geo": "geo",
         "hovertemplate": "<b>%{hovertext}</b><br><br>continent name=North America<br>ip_remote_host=%{marker.size}<br>Alpha-3 code=%{location}<extra></extra>",
         "hovertext": [
          "Bahamas",
          "Canada",
          "Costa Rica",
          "Dominican Republic",
          "Guatemala",
          "Mexico",
          "Nicaragua",
          "Panama",
          "Puerto Rico",
          "United States"
         ],
         "legendgroup": "North America",
         "locations": [
          "BHS",
          "CAN",
          "CRI",
          "DOM",
          "GTM",
          "MEX",
          "NIC",
          "PAN",
          "PRI",
          "USA"
         ],
         "marker": {
          "color": "#FFA15A",
          "size": [
           1,
           13,
           3,
           5,
           1,
           39,
           2,
           7,
           2,
           5297
          ],
          "sizemode": "area",
          "sizeref": 1.467455621301775,
          "symbol": "circle"
         },
         "mode": "markers",
         "name": "North America",
         "showlegend": true,
         "type": "scattergeo"
        },
        {
         "geo": "geo",
         "hovertemplate": "<b>%{hovertext}</b><br><br>continent name=Africa<br>ip_remote_host=%{marker.size}<br>Alpha-3 code=%{location}<extra></extra>",
         "hovertext": [
          "Ivory Coast",
          "Algeria",
          "Egypt",
          "Nigeria",
          "Tunisia"
         ],
         "legendgroup": "Africa",
         "locations": [
          "CIV",
          "DZA",
          "EGY",
          "NGA",
          "TUN"
         ],
         "marker": {
          "color": "#19d3f3",
          "size": [
           1,
           2,
           2,
           2,
           1
          ],
          "sizemode": "area",
          "sizeref": 1.467455621301775,
          "symbol": "circle"
         },
         "mode": "markers",
         "name": "Africa",
         "showlegend": true,
         "type": "scattergeo"
        }
       ],
       "layout": {
        "geo": {
         "center": {},
         "domain": {
          "x": [
           0,
           1
          ],
          "y": [
           0,
           1
          ]
         },
         "projection": {
          "type": "natural earth"
         }
        },
        "height": 500,
        "legend": {
         "itemsizing": "constant",
         "title": {
          "text": "continent name"
         },
         "tracegroupgap": 0
        },
        "margin": {
         "b": 0,
         "l": 0,
         "r": 0,
         "t": 0
        },
        "template": {
         "data": {
          "bar": [
           {
            "error_x": {
             "color": "#2a3f5f"
            },
            "error_y": {
             "color": "#2a3f5f"
            },
            "marker": {
             "line": {
              "color": "#E5ECF6",
              "width": 0.5
             },
             "pattern": {
              "fillmode": "overlay",
              "size": 10,
              "solidity": 0.2
             }
            },
            "type": "bar"
           }
          ],
          "barpolar": [
           {
            "marker": {
             "line": {
              "color": "#E5ECF6",
              "width": 0.5
             },
             "pattern": {
              "fillmode": "overlay",
              "size": 10,
              "solidity": 0.2
             }
            },
            "type": "barpolar"
           }
          ],
          "carpet": [
           {
            "aaxis": {
             "endlinecolor": "#2a3f5f",
             "gridcolor": "white",
             "linecolor": "white",
             "minorgridcolor": "white",
             "startlinecolor": "#2a3f5f"
            },
            "baxis": {
             "endlinecolor": "#2a3f5f",
             "gridcolor": "white",
             "linecolor": "white",
             "minorgridcolor": "white",
             "startlinecolor": "#2a3f5f"
            },
            "type": "carpet"
           }
          ],
          "choropleth": [
           {
            "colorbar": {
             "outlinewidth": 0,
             "ticks": ""
            },
            "type": "choropleth"
           }
          ],
          "contour": [
           {
            "colorbar": {
             "outlinewidth": 0,
             "ticks": ""
            },
            "colorscale": [
             [
              0,
              "#0d0887"
             ],
             [
              0.1111111111111111,
              "#46039f"
             ],
             [
              0.2222222222222222,
              "#7201a8"
             ],
             [
              0.3333333333333333,
              "#9c179e"
             ],
             [
              0.4444444444444444,
              "#bd3786"
             ],
             [
              0.5555555555555556,
              "#d8576b"
             ],
             [
              0.6666666666666666,
              "#ed7953"
             ],
             [
              0.7777777777777778,
              "#fb9f3a"
             ],
             [
              0.8888888888888888,
              "#fdca26"
             ],
             [
              1,
              "#f0f921"
             ]
            ],
            "type": "contour"
           }
          ],
          "contourcarpet": [
           {
            "colorbar": {
             "outlinewidth": 0,
             "ticks": ""
            },
            "type": "contourcarpet"
           }
          ],
          "heatmap": [
           {
            "colorbar": {
             "outlinewidth": 0,
             "ticks": ""
            },
            "colorscale": [
             [
              0,
              "#0d0887"
             ],
             [
              0.1111111111111111,
              "#46039f"
             ],
             [
              0.2222222222222222,
              "#7201a8"
             ],
             [
              0.3333333333333333,
              "#9c179e"
             ],
             [
              0.4444444444444444,
              "#bd3786"
             ],
             [
              0.5555555555555556,
              "#d8576b"
             ],
             [
              0.6666666666666666,
              "#ed7953"
             ],
             [
              0.7777777777777778,
              "#fb9f3a"
             ],
             [
              0.8888888888888888,
              "#fdca26"
             ],
             [
              1,
              "#f0f921"
             ]
            ],
            "type": "heatmap"
           }
          ],
          "heatmapgl": [
           {
            "colorbar": {
             "outlinewidth": 0,
             "ticks": ""
            },
            "colorscale": [
             [
              0,
              "#0d0887"
             ],
             [
              0.1111111111111111,
              "#46039f"
             ],
             [
              0.2222222222222222,
              "#7201a8"
             ],
             [
              0.3333333333333333,
              "#9c179e"
             ],
             [
              0.4444444444444444,
              "#bd3786"
             ],
             [
              0.5555555555555556,
              "#d8576b"
             ],
             [
              0.6666666666666666,
              "#ed7953"
             ],
             [
              0.7777777777777778,
              "#fb9f3a"
             ],
             [
              0.8888888888888888,
              "#fdca26"
             ],
             [
              1,
              "#f0f921"
             ]
            ],
            "type": "heatmapgl"
           }
          ],
          "histogram": [
           {
            "marker": {
             "pattern": {
              "fillmode": "overlay",
              "size": 10,
              "solidity": 0.2
             }
            },
            "type": "histogram"
           }
          ],
          "histogram2d": [
           {
            "colorbar": {
             "outlinewidth": 0,
             "ticks": ""
            },
            "colorscale": [
             [
              0,
              "#0d0887"
             ],
             [
              0.1111111111111111,
              "#46039f"
             ],
             [
              0.2222222222222222,
              "#7201a8"
             ],
             [
              0.3333333333333333,
              "#9c179e"
             ],
             [
              0.4444444444444444,
              "#bd3786"
             ],
             [
              0.5555555555555556,
              "#d8576b"
             ],
             [
              0.6666666666666666,
              "#ed7953"
             ],
             [
              0.7777777777777778,
              "#fb9f3a"
             ],
             [
              0.8888888888888888,
              "#fdca26"
             ],
             [
              1,
              "#f0f921"
             ]
            ],
            "type": "histogram2d"
           }
          ],
          "histogram2dcontour": [
           {
            "colorbar": {
             "outlinewidth": 0,
             "ticks": ""
            },
            "colorscale": [
             [
              0,
              "#0d0887"
             ],
             [
              0.1111111111111111,
              "#46039f"
             ],
             [
              0.2222222222222222,
              "#7201a8"
             ],
             [
              0.3333333333333333,
              "#9c179e"
             ],
             [
              0.4444444444444444,
              "#bd3786"
             ],
             [
              0.5555555555555556,
              "#d8576b"
             ],
             [
              0.6666666666666666,
              "#ed7953"
             ],
             [
              0.7777777777777778,
              "#fb9f3a"
             ],
             [
              0.8888888888888888,
              "#fdca26"
             ],
             [
              1,
              "#f0f921"
             ]
            ],
            "type": "histogram2dcontour"
           }
          ],
          "mesh3d": [
           {
            "colorbar": {
             "outlinewidth": 0,
             "ticks": ""
            },
            "type": "mesh3d"
           }
          ],
          "parcoords": [
           {
            "line": {
             "colorbar": {
              "outlinewidth": 0,
              "ticks": ""
             }
            },
            "type": "parcoords"
           }
          ],
          "pie": [
           {
            "automargin": true,
            "type": "pie"
           }
          ],
          "scatter": [
           {
            "marker": {
             "colorbar": {
              "outlinewidth": 0,
              "ticks": ""
             }
            },
            "type": "scatter"
           }
          ],
          "scatter3d": [
           {
            "line": {
             "colorbar": {
              "outlinewidth": 0,
              "ticks": ""
             }
            },
            "marker": {
             "colorbar": {
              "outlinewidth": 0,
              "ticks": ""
             }
            },
            "type": "scatter3d"
           }
          ],
          "scattercarpet": [
           {
            "marker": {
             "colorbar": {
              "outlinewidth": 0,
              "ticks": ""
             }
            },
            "type": "scattercarpet"
           }
          ],
          "scattergeo": [
           {
            "marker": {
             "colorbar": {
              "outlinewidth": 0,
              "ticks": ""
             }
            },
            "type": "scattergeo"
           }
          ],
          "scattergl": [
           {
            "marker": {
             "colorbar": {
              "outlinewidth": 0,
              "ticks": ""
             }
            },
            "type": "scattergl"
           }
          ],
          "scattermapbox": [
           {
            "marker": {
             "colorbar": {
              "outlinewidth": 0,
              "ticks": ""
             }
            },
            "type": "scattermapbox"
           }
          ],
          "scatterpolar": [
           {
            "marker": {
             "colorbar": {
              "outlinewidth": 0,
              "ticks": ""
             }
            },
            "type": "scatterpolar"
           }
          ],
          "scatterpolargl": [
           {
            "marker": {
             "colorbar": {
              "outlinewidth": 0,
              "ticks": ""
             }
            },
            "type": "scatterpolargl"
           }
          ],
          "scatterternary": [
           {
            "marker": {
             "colorbar": {
              "outlinewidth": 0,
              "ticks": ""
             }
            },
            "type": "scatterternary"
           }
          ],
          "surface": [
           {
            "colorbar": {
             "outlinewidth": 0,
             "ticks": ""
            },
            "colorscale": [
             [
              0,
              "#0d0887"
             ],
             [
              0.1111111111111111,
              "#46039f"
             ],
             [
              0.2222222222222222,
              "#7201a8"
             ],
             [
              0.3333333333333333,
              "#9c179e"
             ],
             [
              0.4444444444444444,
              "#bd3786"
             ],
             [
              0.5555555555555556,
              "#d8576b"
             ],
             [
              0.6666666666666666,
              "#ed7953"
             ],
             [
              0.7777777777777778,
              "#fb9f3a"
             ],
             [
              0.8888888888888888,
              "#fdca26"
             ],
             [
              1,
              "#f0f921"
             ]
            ],
            "type": "surface"
           }
          ],
          "table": [
           {
            "cells": {
             "fill": {
              "color": "#EBF0F8"
             },
             "line": {
              "color": "white"
             }
            },
            "header": {
             "fill": {
              "color": "#C8D4E3"
             },
             "line": {
              "color": "white"
             }
            },
            "type": "table"
           }
          ]
         },
         "layout": {
          "annotationdefaults": {
           "arrowcolor": "#2a3f5f",
           "arrowhead": 0,
           "arrowwidth": 1
          },
          "autotypenumbers": "strict",
          "coloraxis": {
           "colorbar": {
            "outlinewidth": 0,
            "ticks": ""
           }
          },
          "colorscale": {
           "diverging": [
            [
             0,
             "#8e0152"
            ],
            [
             0.1,
             "#c51b7d"
            ],
            [
             0.2,
             "#de77ae"
            ],
            [
             0.3,
             "#f1b6da"
            ],
            [
             0.4,
             "#fde0ef"
            ],
            [
             0.5,
             "#f7f7f7"
            ],
            [
             0.6,
             "#e6f5d0"
            ],
            [
             0.7,
             "#b8e186"
            ],
            [
             0.8,
             "#7fbc41"
            ],
            [
             0.9,
             "#4d9221"
            ],
            [
             1,
             "#276419"
            ]
           ],
           "sequential": [
            [
             0,
             "#0d0887"
            ],
            [
             0.1111111111111111,
             "#46039f"
            ],
            [
             0.2222222222222222,
             "#7201a8"
            ],
            [
             0.3333333333333333,
             "#9c179e"
            ],
            [
             0.4444444444444444,
             "#bd3786"
            ],
            [
             0.5555555555555556,
             "#d8576b"
            ],
            [
             0.6666666666666666,
             "#ed7953"
            ],
            [
             0.7777777777777778,
             "#fb9f3a"
            ],
            [
             0.8888888888888888,
             "#fdca26"
            ],
            [
             1,
             "#f0f921"
            ]
           ],
           "sequentialminus": [
            [
             0,
             "#0d0887"
            ],
            [
             0.1111111111111111,
             "#46039f"
            ],
            [
             0.2222222222222222,
             "#7201a8"
            ],
            [
             0.3333333333333333,
             "#9c179e"
            ],
            [
             0.4444444444444444,
             "#bd3786"
            ],
            [
             0.5555555555555556,
             "#d8576b"
            ],
            [
             0.6666666666666666,
             "#ed7953"
            ],
            [
             0.7777777777777778,
             "#fb9f3a"
            ],
            [
             0.8888888888888888,
             "#fdca26"
            ],
            [
             1,
             "#f0f921"
            ]
           ]
          },
          "colorway": [
           "#636efa",
           "#EF553B",
           "#00cc96",
           "#ab63fa",
           "#FFA15A",
           "#19d3f3",
           "#FF6692",
           "#B6E880",
           "#FF97FF",
           "#FECB52"
          ],
          "font": {
           "color": "#2a3f5f"
          },
          "geo": {
           "bgcolor": "white",
           "lakecolor": "white",
           "landcolor": "#E5ECF6",
           "showlakes": true,
           "showland": true,
           "subunitcolor": "white"
          },
          "hoverlabel": {
           "align": "left"
          },
          "hovermode": "closest",
          "mapbox": {
           "style": "light"
          },
          "paper_bgcolor": "white",
          "plot_bgcolor": "#E5ECF6",
          "polar": {
           "angularaxis": {
            "gridcolor": "white",
            "linecolor": "white",
            "ticks": ""
           },
           "bgcolor": "#E5ECF6",
           "radialaxis": {
            "gridcolor": "white",
            "linecolor": "white",
            "ticks": ""
           }
          },
          "scene": {
           "xaxis": {
            "backgroundcolor": "#E5ECF6",
            "gridcolor": "white",
            "gridwidth": 2,
            "linecolor": "white",
            "showbackground": true,
            "ticks": "",
            "zerolinecolor": "white"
           },
           "yaxis": {
            "backgroundcolor": "#E5ECF6",
            "gridcolor": "white",
            "gridwidth": 2,
            "linecolor": "white",
            "showbackground": true,
            "ticks": "",
            "zerolinecolor": "white"
           },
           "zaxis": {
            "backgroundcolor": "#E5ECF6",
            "gridcolor": "white",
            "gridwidth": 2,
            "linecolor": "white",
            "showbackground": true,
            "ticks": "",
            "zerolinecolor": "white"
           }
          },
          "shapedefaults": {
           "line": {
            "color": "#2a3f5f"
           }
          },
          "ternary": {
           "aaxis": {
            "gridcolor": "white",
            "linecolor": "white",
            "ticks": ""
           },
           "baxis": {
            "gridcolor": "white",
            "linecolor": "white",
            "ticks": ""
           },
           "bgcolor": "#E5ECF6",
           "caxis": {
            "gridcolor": "white",
            "linecolor": "white",
            "ticks": ""
           }
          },
          "title": {
           "x": 0.05
          },
          "xaxis": {
           "automargin": true,
           "gridcolor": "white",
           "linecolor": "white",
           "ticks": "",
           "title": {
            "standoff": 15
           },
           "zerolinecolor": "white",
           "zerolinewidth": 2
          },
          "yaxis": {
           "automargin": true,
           "gridcolor": "white",
           "linecolor": "white",
           "ticks": "",
           "title": {
            "standoff": 15
           },
           "zerolinecolor": "white",
           "zerolinewidth": 2
          }
         }
        }
       }
      },
      "text/html": [
       "<div>                            <div id=\"54a68c5c-93ca-4780-912d-16f4ef727054\" class=\"plotly-graph-div\" style=\"height:500px; width:100%;\"></div>            <script type=\"text/javascript\">                require([\"plotly\"], function(Plotly) {                    window.PLOTLYENV=window.PLOTLYENV || {};                                    if (document.getElementById(\"54a68c5c-93ca-4780-912d-16f4ef727054\")) {                    Plotly.newPlot(                        \"54a68c5c-93ca-4780-912d-16f4ef727054\",                        [{\"geo\":\"geo\",\"hovertemplate\":\"<b>%{hovertext}</b><br><br>continent name=Europe<br>ip_remote_host=%{marker.size}<br>Alpha-3 code=%{location}<extra></extra>\",\"hovertext\":[\"Andorra\",\"Austria\",\"Belgium\",\"Switzerland\",\"Czech Republic\",\"Germany\",\"Denmark\",\"Spain\",\"France\",\"United Kingdom\",\"Greece\",\"Ireland\",\"Italy\",\"Macedonia\",\"Netherlands\",\"Norway\",\"Poland\",\"Portugal\",\"Romania\",\"Russian Federation\",\"Ukraine\"],\"legendgroup\":\"Europe\",\"locations\":[\"AND\",\"AUT\",\"BEL\",\"CHE\",\"CZE\",\"DEU\",\"DNK\",\"ESP\",\"FRA\",\"GBR\",\"GRC\",\"IRL\",\"ITA\",\"MKD\",\"NLD\",\"NOR\",\"POL\",\"PRT\",\"ROU\",\"RUS\",\"UKR\"],\"marker\":{\"color\":\"#636efa\",\"size\":[4,8,33,5,1,182,4,2993,859,37,5,33,23,1,3609,3,1,11,5,289,42],\"sizemode\":\"area\",\"sizeref\":1.467455621301775,\"symbol\":\"circle\"},\"mode\":\"markers\",\"name\":\"Europe\",\"showlegend\":true,\"type\":\"scattergeo\"},{\"geo\":\"geo\",\"hovertemplate\":\"<b>%{hovertext}</b><br><br>continent name=Asia<br>ip_remote_host=%{marker.size}<br>Alpha-3 code=%{location}<extra></extra>\",\"hovertext\":[\"United Arab Emirates\",\"China\",\"Cyprus\",\"Hong Kong\",\"Indonesia\",\"Iran\",\"Israel\",\"Japan\",\"South Korea\",\"Mongolia\",\"Philippines\",\"Qatar\",\"Singapore\",\"Thailand\",\"Taiwan\",\"Vietnam\"],\"legendgroup\":\"Asia\",\"locations\":[\"ARE\",\"CHN\",\"CYP\",\"HKG\",\"IDN\",\"IRN\",\"ISR\",\"JPN\",\"KOR\",\"MNG\",\"PHL\",\"QAT\",\"SGP\",\"THA\",\"TWN\",\"VNM\"],\"marker\":{\"color\":\"#EF553B\",\"size\":[2,6200,2,49,1,2,2,81,2,3,1,1,2,2,6,1],\"sizemode\":\"area\",\"sizeref\":1.467455621301775,\"symbol\":\"circle\"},\"mode\":\"markers\",\"name\":\"Asia\",\"showlegend\":true,\"type\":\"scattergeo\"},{\"geo\":\"geo\",\"hovertemplate\":\"<b>%{hovertext}</b><br><br>continent name=South America<br>ip_remote_host=%{marker.size}<br>Alpha-3 code=%{location}<extra></extra>\",\"hovertext\":[\"Argentina\",\"Bonaire\",\"Bolivia\",\"Brazil\",\"Chile\",\"Colombia\",\"Curacao\\n\",\"Ecuador\",\"Peru\",\"Uruguay\",\"Venezuela\"],\"legendgroup\":\"South America\",\"locations\":[\"ARG\",\"BES\",\"BOL\",\"BRA\",\"CHL\",\"COL\",\"CUW\",\"ECU\",\"PER\",\"URY\",\"VEN\"],\"marker\":{\"color\":\"#00cc96\",\"size\":[29,1,3,47,10,15,1,7,5,7,6],\"sizemode\":\"area\",\"sizeref\":1.467455621301775,\"symbol\":\"circle\"},\"mode\":\"markers\",\"name\":\"South America\",\"showlegend\":true,\"type\":\"scattergeo\"},{\"geo\":\"geo\",\"hovertemplate\":\"<b>%{hovertext}</b><br><br>continent name=Oceania<br>ip_remote_host=%{marker.size}<br>Alpha-3 code=%{location}<extra></extra>\",\"hovertext\":[\"Australia\"],\"legendgroup\":\"Oceania\",\"locations\":[\"AUS\"],\"marker\":{\"color\":\"#ab63fa\",\"size\":[3],\"sizemode\":\"area\",\"sizeref\":1.467455621301775,\"symbol\":\"circle\"},\"mode\":\"markers\",\"name\":\"Oceania\",\"showlegend\":true,\"type\":\"scattergeo\"},{\"geo\":\"geo\",\"hovertemplate\":\"<b>%{hovertext}</b><br><br>continent name=North America<br>ip_remote_host=%{marker.size}<br>Alpha-3 code=%{location}<extra></extra>\",\"hovertext\":[\"Bahamas\",\"Canada\",\"Costa Rica\",\"Dominican Republic\",\"Guatemala\",\"Mexico\",\"Nicaragua\",\"Panama\",\"Puerto Rico\",\"United States\"],\"legendgroup\":\"North America\",\"locations\":[\"BHS\",\"CAN\",\"CRI\",\"DOM\",\"GTM\",\"MEX\",\"NIC\",\"PAN\",\"PRI\",\"USA\"],\"marker\":{\"color\":\"#FFA15A\",\"size\":[1,13,3,5,1,39,2,7,2,5297],\"sizemode\":\"area\",\"sizeref\":1.467455621301775,\"symbol\":\"circle\"},\"mode\":\"markers\",\"name\":\"North America\",\"showlegend\":true,\"type\":\"scattergeo\"},{\"geo\":\"geo\",\"hovertemplate\":\"<b>%{hovertext}</b><br><br>continent name=Africa<br>ip_remote_host=%{marker.size}<br>Alpha-3 code=%{location}<extra></extra>\",\"hovertext\":[\"Ivory Coast\",\"Algeria\",\"Egypt\",\"Nigeria\",\"Tunisia\"],\"legendgroup\":\"Africa\",\"locations\":[\"CIV\",\"DZA\",\"EGY\",\"NGA\",\"TUN\"],\"marker\":{\"color\":\"#19d3f3\",\"size\":[1,2,2,2,1],\"sizemode\":\"area\",\"sizeref\":1.467455621301775,\"symbol\":\"circle\"},\"mode\":\"markers\",\"name\":\"Africa\",\"showlegend\":true,\"type\":\"scattergeo\"}],                        {\"geo\":{\"center\":{},\"domain\":{\"x\":[0.0,1.0],\"y\":[0.0,1.0]},\"projection\":{\"type\":\"natural earth\"}},\"height\":500,\"legend\":{\"itemsizing\":\"constant\",\"title\":{\"text\":\"continent name\"},\"tracegroupgap\":0},\"margin\":{\"b\":0,\"l\":0,\"r\":0,\"t\":0},\"template\":{\"data\":{\"bar\":[{\"error_x\":{\"color\":\"#2a3f5f\"},\"error_y\":{\"color\":\"#2a3f5f\"},\"marker\":{\"line\":{\"color\":\"#E5ECF6\",\"width\":0.5},\"pattern\":{\"fillmode\":\"overlay\",\"size\":10,\"solidity\":0.2}},\"type\":\"bar\"}],\"barpolar\":[{\"marker\":{\"line\":{\"color\":\"#E5ECF6\",\"width\":0.5},\"pattern\":{\"fillmode\":\"overlay\",\"size\":10,\"solidity\":0.2}},\"type\":\"barpolar\"}],\"carpet\":[{\"aaxis\":{\"endlinecolor\":\"#2a3f5f\",\"gridcolor\":\"white\",\"linecolor\":\"white\",\"minorgridcolor\":\"white\",\"startlinecolor\":\"#2a3f5f\"},\"baxis\":{\"endlinecolor\":\"#2a3f5f\",\"gridcolor\":\"white\",\"linecolor\":\"white\",\"minorgridcolor\":\"white\",\"startlinecolor\":\"#2a3f5f\"},\"type\":\"carpet\"}],\"choropleth\":[{\"colorbar\":{\"outlinewidth\":0,\"ticks\":\"\"},\"type\":\"choropleth\"}],\"contour\":[{\"colorbar\":{\"outlinewidth\":0,\"ticks\":\"\"},\"colorscale\":[[0.0,\"#0d0887\"],[0.1111111111111111,\"#46039f\"],[0.2222222222222222,\"#7201a8\"],[0.3333333333333333,\"#9c179e\"],[0.4444444444444444,\"#bd3786\"],[0.5555555555555556,\"#d8576b\"],[0.6666666666666666,\"#ed7953\"],[0.7777777777777778,\"#fb9f3a\"],[0.8888888888888888,\"#fdca26\"],[1.0,\"#f0f921\"]],\"type\":\"contour\"}],\"contourcarpet\":[{\"colorbar\":{\"outlinewidth\":0,\"ticks\":\"\"},\"type\":\"contourcarpet\"}],\"heatmap\":[{\"colorbar\":{\"outlinewidth\":0,\"ticks\":\"\"},\"colorscale\":[[0.0,\"#0d0887\"],[0.1111111111111111,\"#46039f\"],[0.2222222222222222,\"#7201a8\"],[0.3333333333333333,\"#9c179e\"],[0.4444444444444444,\"#bd3786\"],[0.5555555555555556,\"#d8576b\"],[0.6666666666666666,\"#ed7953\"],[0.7777777777777778,\"#fb9f3a\"],[0.8888888888888888,\"#fdca26\"],[1.0,\"#f0f921\"]],\"type\":\"heatmap\"}],\"heatmapgl\":[{\"colorbar\":{\"outlinewidth\":0,\"ticks\":\"\"},\"colorscale\":[[0.0,\"#0d0887\"],[0.1111111111111111,\"#46039f\"],[0.2222222222222222,\"#7201a8\"],[0.3333333333333333,\"#9c179e\"],[0.4444444444444444,\"#bd3786\"],[0.5555555555555556,\"#d8576b\"],[0.6666666666666666,\"#ed7953\"],[0.7777777777777778,\"#fb9f3a\"],[0.8888888888888888,\"#fdca26\"],[1.0,\"#f0f921\"]],\"type\":\"heatmapgl\"}],\"histogram\":[{\"marker\":{\"pattern\":{\"fillmode\":\"overlay\",\"size\":10,\"solidity\":0.2}},\"type\":\"histogram\"}],\"histogram2d\":[{\"colorbar\":{\"outlinewidth\":0,\"ticks\":\"\"},\"colorscale\":[[0.0,\"#0d0887\"],[0.1111111111111111,\"#46039f\"],[0.2222222222222222,\"#7201a8\"],[0.3333333333333333,\"#9c179e\"],[0.4444444444444444,\"#bd3786\"],[0.5555555555555556,\"#d8576b\"],[0.6666666666666666,\"#ed7953\"],[0.7777777777777778,\"#fb9f3a\"],[0.8888888888888888,\"#fdca26\"],[1.0,\"#f0f921\"]],\"type\":\"histogram2d\"}],\"histogram2dcontour\":[{\"colorbar\":{\"outlinewidth\":0,\"ticks\":\"\"},\"colorscale\":[[0.0,\"#0d0887\"],[0.1111111111111111,\"#46039f\"],[0.2222222222222222,\"#7201a8\"],[0.3333333333333333,\"#9c179e\"],[0.4444444444444444,\"#bd3786\"],[0.5555555555555556,\"#d8576b\"],[0.6666666666666666,\"#ed7953\"],[0.7777777777777778,\"#fb9f3a\"],[0.8888888888888888,\"#fdca26\"],[1.0,\"#f0f921\"]],\"type\":\"histogram2dcontour\"}],\"mesh3d\":[{\"colorbar\":{\"outlinewidth\":0,\"ticks\":\"\"},\"type\":\"mesh3d\"}],\"parcoords\":[{\"line\":{\"colorbar\":{\"outlinewidth\":0,\"ticks\":\"\"}},\"type\":\"parcoords\"}],\"pie\":[{\"automargin\":true,\"type\":\"pie\"}],\"scatter\":[{\"marker\":{\"colorbar\":{\"outlinewidth\":0,\"ticks\":\"\"}},\"type\":\"scatter\"}],\"scatter3d\":[{\"line\":{\"colorbar\":{\"outlinewidth\":0,\"ticks\":\"\"}},\"marker\":{\"colorbar\":{\"outlinewidth\":0,\"ticks\":\"\"}},\"type\":\"scatter3d\"}],\"scattercarpet\":[{\"marker\":{\"colorbar\":{\"outlinewidth\":0,\"ticks\":\"\"}},\"type\":\"scattercarpet\"}],\"scattergeo\":[{\"marker\":{\"colorbar\":{\"outlinewidth\":0,\"ticks\":\"\"}},\"type\":\"scattergeo\"}],\"scattergl\":[{\"marker\":{\"colorbar\":{\"outlinewidth\":0,\"ticks\":\"\"}},\"type\":\"scattergl\"}],\"scattermapbox\":[{\"marker\":{\"colorbar\":{\"outlinewidth\":0,\"ticks\":\"\"}},\"type\":\"scattermapbox\"}],\"scatterpolar\":[{\"marker\":{\"colorbar\":{\"outlinewidth\":0,\"ticks\":\"\"}},\"type\":\"scatterpolar\"}],\"scatterpolargl\":[{\"marker\":{\"colorbar\":{\"outlinewidth\":0,\"ticks\":\"\"}},\"type\":\"scatterpolargl\"}],\"scatterternary\":[{\"marker\":{\"colorbar\":{\"outlinewidth\":0,\"ticks\":\"\"}},\"type\":\"scatterternary\"}],\"surface\":[{\"colorbar\":{\"outlinewidth\":0,\"ticks\":\"\"},\"colorscale\":[[0.0,\"#0d0887\"],[0.1111111111111111,\"#46039f\"],[0.2222222222222222,\"#7201a8\"],[0.3333333333333333,\"#9c179e\"],[0.4444444444444444,\"#bd3786\"],[0.5555555555555556,\"#d8576b\"],[0.6666666666666666,\"#ed7953\"],[0.7777777777777778,\"#fb9f3a\"],[0.8888888888888888,\"#fdca26\"],[1.0,\"#f0f921\"]],\"type\":\"surface\"}],\"table\":[{\"cells\":{\"fill\":{\"color\":\"#EBF0F8\"},\"line\":{\"color\":\"white\"}},\"header\":{\"fill\":{\"color\":\"#C8D4E3\"},\"line\":{\"color\":\"white\"}},\"type\":\"table\"}]},\"layout\":{\"annotationdefaults\":{\"arrowcolor\":\"#2a3f5f\",\"arrowhead\":0,\"arrowwidth\":1},\"autotypenumbers\":\"strict\",\"coloraxis\":{\"colorbar\":{\"outlinewidth\":0,\"ticks\":\"\"}},\"colorscale\":{\"diverging\":[[0,\"#8e0152\"],[0.1,\"#c51b7d\"],[0.2,\"#de77ae\"],[0.3,\"#f1b6da\"],[0.4,\"#fde0ef\"],[0.5,\"#f7f7f7\"],[0.6,\"#e6f5d0\"],[0.7,\"#b8e186\"],[0.8,\"#7fbc41\"],[0.9,\"#4d9221\"],[1,\"#276419\"]],\"sequential\":[[0.0,\"#0d0887\"],[0.1111111111111111,\"#46039f\"],[0.2222222222222222,\"#7201a8\"],[0.3333333333333333,\"#9c179e\"],[0.4444444444444444,\"#bd3786\"],[0.5555555555555556,\"#d8576b\"],[0.6666666666666666,\"#ed7953\"],[0.7777777777777778,\"#fb9f3a\"],[0.8888888888888888,\"#fdca26\"],[1.0,\"#f0f921\"]],\"sequentialminus\":[[0.0,\"#0d0887\"],[0.1111111111111111,\"#46039f\"],[0.2222222222222222,\"#7201a8\"],[0.3333333333333333,\"#9c179e\"],[0.4444444444444444,\"#bd3786\"],[0.5555555555555556,\"#d8576b\"],[0.6666666666666666,\"#ed7953\"],[0.7777777777777778,\"#fb9f3a\"],[0.8888888888888888,\"#fdca26\"],[1.0,\"#f0f921\"]]},\"colorway\":[\"#636efa\",\"#EF553B\",\"#00cc96\",\"#ab63fa\",\"#FFA15A\",\"#19d3f3\",\"#FF6692\",\"#B6E880\",\"#FF97FF\",\"#FECB52\"],\"font\":{\"color\":\"#2a3f5f\"},\"geo\":{\"bgcolor\":\"white\",\"lakecolor\":\"white\",\"landcolor\":\"#E5ECF6\",\"showlakes\":true,\"showland\":true,\"subunitcolor\":\"white\"},\"hoverlabel\":{\"align\":\"left\"},\"hovermode\":\"closest\",\"mapbox\":{\"style\":\"light\"},\"paper_bgcolor\":\"white\",\"plot_bgcolor\":\"#E5ECF6\",\"polar\":{\"angularaxis\":{\"gridcolor\":\"white\",\"linecolor\":\"white\",\"ticks\":\"\"},\"bgcolor\":\"#E5ECF6\",\"radialaxis\":{\"gridcolor\":\"white\",\"linecolor\":\"white\",\"ticks\":\"\"}},\"scene\":{\"xaxis\":{\"backgroundcolor\":\"#E5ECF6\",\"gridcolor\":\"white\",\"gridwidth\":2,\"linecolor\":\"white\",\"showbackground\":true,\"ticks\":\"\",\"zerolinecolor\":\"white\"},\"yaxis\":{\"backgroundcolor\":\"#E5ECF6\",\"gridcolor\":\"white\",\"gridwidth\":2,\"linecolor\":\"white\",\"showbackground\":true,\"ticks\":\"\",\"zerolinecolor\":\"white\"},\"zaxis\":{\"backgroundcolor\":\"#E5ECF6\",\"gridcolor\":\"white\",\"gridwidth\":2,\"linecolor\":\"white\",\"showbackground\":true,\"ticks\":\"\",\"zerolinecolor\":\"white\"}},\"shapedefaults\":{\"line\":{\"color\":\"#2a3f5f\"}},\"ternary\":{\"aaxis\":{\"gridcolor\":\"white\",\"linecolor\":\"white\",\"ticks\":\"\"},\"baxis\":{\"gridcolor\":\"white\",\"linecolor\":\"white\",\"ticks\":\"\"},\"bgcolor\":\"#E5ECF6\",\"caxis\":{\"gridcolor\":\"white\",\"linecolor\":\"white\",\"ticks\":\"\"}},\"title\":{\"x\":0.05},\"xaxis\":{\"automargin\":true,\"gridcolor\":\"white\",\"linecolor\":\"white\",\"ticks\":\"\",\"title\":{\"standoff\":15},\"zerolinecolor\":\"white\",\"zerolinewidth\":2},\"yaxis\":{\"automargin\":true,\"gridcolor\":\"white\",\"linecolor\":\"white\",\"ticks\":\"\",\"title\":{\"standoff\":15},\"zerolinecolor\":\"white\",\"zerolinewidth\":2}}}},                        {\"responsive\": true}                    ).then(function(){\n",
       "                            \n",
       "var gd = document.getElementById('54a68c5c-93ca-4780-912d-16f4ef727054');\n",
       "var x = new MutationObserver(function (mutations, observer) {{\n",
       "        var display = window.getComputedStyle(gd).display;\n",
       "        if (!display || display === 'none') {{\n",
       "            console.log([gd, 'removed!']);\n",
       "            Plotly.purge(gd);\n",
       "            observer.disconnect();\n",
       "        }}\n",
       "}});\n",
       "\n",
       "// Listen for the removal of the full notebook cells\n",
       "var notebookContainer = gd.closest('#notebook-container');\n",
       "if (notebookContainer) {{\n",
       "    x.observe(notebookContainer, {childList: true});\n",
       "}}\n",
       "\n",
       "// Listen for the clearing of the current output cell\n",
       "var outputEl = gd.closest('.output');\n",
       "if (outputEl) {{\n",
       "    x.observe(outputEl, {childList: true});\n",
       "}}\n",
       "\n",
       "                        })                };                });            </script>        </div>"
      ]
     },
     "metadata": {},
     "output_type": "display_data"
    },
    {
     "data": {
      "text/plain": [
       "'geo.html'"
      ]
     },
     "execution_count": 81,
     "metadata": {},
     "output_type": "execute_result"
    }
   ],
   "source": [
    "import plotly.express as px\n",
    "import plotly.offline\n",
    "import plotly.graph_objs as go\n",
    "\n",
    "\n",
    "fig = px.scatter_geo(geodf2, locations=\"Alpha-3 code\", color=\"continent name\",\n",
    "                     hover_name=\"Country\", size='ip_remote_host',\n",
    "                     projection=\"natural earth\", size_max=65) \n",
    "fig.update_layout(height=500, margin={\"r\":0,\"t\":0,\"l\":0,\"b\":0})\n",
    "fig.show()\n",
    "plotly.offline.plot(fig, filename='geo.html')"
   ]
  },
  {
   "cell_type": "markdown",
   "id": "4e316a9e",
   "metadata": {},
   "source": [
    "<a href=\"geo.html\">Open GEOplot</a>"
   ]
  },
  {
   "cell_type": "markdown",
   "id": "4e2ca94e",
   "metadata": {
    "id": "e83dc28e"
   },
   "source": [
    "* As it is possible to see above, the major number of requests to our server come from China, US, Netherlands, and Spain."
   ]
  }
 ],
 "metadata": {
  "colab": {
   "collapsed_sections": [],
   "name": "S04 T01 Transformació Registre Log amb Regular expressions.ipynb",
   "provenance": []
  },
  "hide_input": false,
  "kernelspec": {
   "display_name": "Python 3 (ipykernel)",
   "language": "python",
   "name": "python3"
  },
  "language_info": {
   "codemirror_mode": {
    "name": "ipython",
    "version": 3
   },
   "file_extension": ".py",
   "mimetype": "text/x-python",
   "name": "python",
   "nbconvert_exporter": "python",
   "pygments_lexer": "ipython3",
   "version": "3.8.12"
  },
  "toc": {
   "base_numbering": 1,
   "nav_menu": {},
   "number_sections": true,
   "sideBar": true,
   "skip_h1_title": false,
   "title_cell": "Table of Contents",
   "title_sidebar": "Contents",
   "toc_cell": true,
   "toc_position": {
    "height": "calc(100% - 180px)",
    "left": "10px",
    "top": "150px",
    "width": "384px"
   },
   "toc_section_display": true,
   "toc_window_display": false
  },
  "varInspector": {
   "cols": {
    "lenName": 16,
    "lenType": 16,
    "lenVar": 40
   },
   "kernels_config": {
    "python": {
     "delete_cmd_postfix": "",
     "delete_cmd_prefix": "del ",
     "library": "var_list.py",
     "varRefreshCmd": "print(var_dic_list())"
    },
    "r": {
     "delete_cmd_postfix": ") ",
     "delete_cmd_prefix": "rm(",
     "library": "var_list.r",
     "varRefreshCmd": "cat(var_dic_list()) "
    }
   },
   "types_to_exclude": [
    "module",
    "function",
    "builtin_function_or_method",
    "instance",
    "_Feature"
   ],
   "window_display": false
  }
 },
 "nbformat": 4,
 "nbformat_minor": 5
}
